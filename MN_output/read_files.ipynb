{
 "cells": [
  {
   "cell_type": "markdown",
   "id": "d499b3c2-9f77-4d4f-9296-3a57049be630",
   "metadata": {},
   "source": [
    "# Load stored output spikes"
   ]
  },
  {
   "cell_type": "code",
   "execution_count": 2,
   "id": "b7e9dea0-26b9-4b93-be93-c4a1849fa2c7",
   "metadata": {},
   "outputs": [],
   "source": [
    "import torch\n",
    "import os\n",
    "from pathlib import Path\n",
    "import matplotlib.pyplot as plt"
   ]
  },
  {
   "cell_type": "code",
   "execution_count": 3,
   "id": "fa7d7a60-afb4-4076-954e-6da7b78dd33e",
   "metadata": {},
   "outputs": [],
   "source": [
    "folder = Path('train') # or test"
   ]
  },
  {
   "cell_type": "code",
   "execution_count": 4,
   "id": "ec52d5a9-5eb3-482d-b3ff-ed40387e7666",
   "metadata": {},
   "outputs": [],
   "source": [
    "list_files = os.listdir(folder)"
   ]
  },
  {
   "cell_type": "code",
   "execution_count": 5,
   "id": "01d89429-5bee-4087-beb1-3394962a08d9",
   "metadata": {},
   "outputs": [
    {
     "name": "stdout",
     "output_type": "stream",
     "text": [
      "torch.Size([128, 315, 24])\n",
      "torch.Size([128, 315, 24])\n",
      "torch.Size([128, 315, 24])\n",
      "torch.Size([128, 315, 24])\n",
      "torch.Size([128, 315, 24])\n",
      "torch.Size([128, 315, 24])\n",
      "torch.Size([128, 315, 24])\n",
      "torch.Size([128, 315, 24])\n",
      "torch.Size([128, 315, 24])\n",
      "torch.Size([128, 315, 24])\n",
      "torch.Size([128, 315, 24])\n",
      "torch.Size([128, 315, 24])\n",
      "torch.Size([128, 315, 24])\n",
      "torch.Size([128, 315, 24])\n",
      "torch.Size([128, 315, 24])\n",
      "torch.Size([128, 315, 24])\n",
      "torch.Size([128, 315, 24])\n",
      "torch.Size([128, 315, 24])\n",
      "torch.Size([128, 315, 24])\n",
      "torch.Size([128, 315, 24])\n",
      "torch.Size([128, 315, 24])\n",
      "torch.Size([128, 315, 24])\n",
      "torch.Size([128, 315, 24])\n",
      "torch.Size([128, 315, 24])\n",
      "torch.Size([128, 315, 24])\n",
      "torch.Size([128, 315, 24])\n",
      "torch.Size([128, 315, 24])\n",
      "torch.Size([128, 315, 24])\n",
      "torch.Size([128, 315, 24])\n",
      "torch.Size([128, 315, 24])\n",
      "torch.Size([128, 315, 24])\n",
      "torch.Size([128, 315, 24])\n",
      "torch.Size([128, 315, 24])\n",
      "torch.Size([128, 315, 24])\n",
      "torch.Size([128, 315, 24])\n",
      "torch.Size([80, 315, 24])\n",
      "torch.Size([128, 315, 24])\n",
      "torch.Size([128, 315, 24])\n",
      "torch.Size([128, 315, 24])\n",
      "torch.Size([128, 315, 24])\n",
      "torch.Size([128, 315, 24])\n",
      "torch.Size([128, 315, 24])\n",
      "torch.Size([128, 315, 24])\n",
      "torch.Size([128, 315, 24])\n",
      "torch.Size([128, 315, 24])\n",
      "torch.Size([128, 315, 24])\n",
      "torch.Size([128, 315, 24])\n",
      "torch.Size([128, 315, 24])\n",
      "torch.Size([128, 315, 24])\n",
      "torch.Size([128, 315, 24])\n",
      "torch.Size([128, 315, 24])\n"
     ]
    }
   ],
   "source": [
    "for file in list_files:\n",
    "    a = torch.load(folder.joinpath(file))"
   ]
  },
  {
   "cell_type": "code",
   "execution_count": 7,
   "id": "fd999915-ff52-467c-934d-f8afcf238cca",
   "metadata": {},
   "outputs": [
    {
     "data": {
      "image/png": "[encoded data removed]",
      "text/plain": [
       "<Figure size 432x288 with 9 Axes>"
      ]
     },
     "metadata": {
      "needs_background": "light"
     },
     "output_type": "display_data"
    }
   ],
   "source": [
    "fig = plt.figure()\n",
    "for i in range(9):\n",
    "    plt.subplot(3,3,i+1)\n",
    "    plt.tight_layout()\n",
    "    im = plt.imshow(torch.transpose(a[i,:,:], 1, 0), aspect='auto', interpolation='none', vmin=0, vmax=1, cmap='Greys')\n",
    "    plt.xlabel('Time bins')\n",
    "    plt.ylabel('n inputs')"
   ]
  },
  {
   "cell_type": "code",
   "execution_count": null,
   "id": "0a471faa-9eb1-47ad-b52c-5a3a1be6ffa8",
   "metadata": {},
   "outputs": [],
   "source": []
  }
 ],
 "metadata": {
  "kernelspec": {
   "display_name": "Python 3 (ipykernel)",
   "language": "python",
   "name": "python3"
  },
  "language_info": {
   "codemirror_mode": {
    "name": "ipython",
    "version": 3
   },
   "file_extension": ".py",
   "mimetype": "text/x-python",
   "name": "python",
   "nbconvert_exporter": "python",
   "pygments_lexer": "ipython3",
   "version": "3.9.12"
  }
 },
 "nbformat": 4,
 "nbformat_minor": 5
}
