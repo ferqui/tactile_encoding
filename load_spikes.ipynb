{
 "cells": [
  {
   "cell_type": "code",
   "execution_count": 4,
   "id": "initial_id",
   "metadata": {
    "collapsed": true,
    "ExecuteTime": {
     "end_time": "2024-01-16T16:46:16.930919443Z",
     "start_time": "2024-01-16T16:46:14.778153008Z"
    }
   },
   "outputs": [],
   "source": [
    "import torch\n",
    "import numpy as np\n",
    "import os"
   ]
  },
  {
   "cell_type": "code",
   "outputs": [],
   "source": [
    "folder = 'GR_Braille_spikes_dataset/GR_Braille_nw_0/train/'"
   ],
   "metadata": {
    "collapsed": false,
    "ExecuteTime": {
     "end_time": "2024-01-15T11:06:25.949717975Z",
     "start_time": "2024-01-15T11:06:25.925275275Z"
    }
   },
   "id": "9d4763ac5585ea2",
   "execution_count": 2
  },
  {
   "cell_type": "code",
   "outputs": [],
   "source": [
    "labels = torch.load(folder + 'GR_Braille_nw_0_0_label.pt')\n",
    "values = np.load(folder + 'GR_Braille_nw_0_0.npy')\n",
    "values = np.unpackbits(values,axis=0)"
   ],
   "metadata": {
    "collapsed": false,
    "ExecuteTime": {
     "end_time": "2024-01-13T15:37:08.835701360Z",
     "start_time": "2024-01-13T15:37:08.820143832Z"
    }
   },
   "id": "79c0701dd7edd0fe",
   "execution_count": 9
  },
  {
   "cell_type": "code",
   "outputs": [
    {
     "name": "stdout",
     "output_type": "stream",
     "text": [
      "label shape torch.Size([128])\n",
      "label unique: 27\n"
     ]
    }
   ],
   "source": [
    "print('label shape',labels.shape)\n",
    "print('label unique:',len(labels.unique()))"
   ],
   "metadata": {
    "collapsed": false,
    "ExecuteTime": {
     "end_time": "2024-01-13T15:39:41.560707614Z",
     "start_time": "2024-01-13T15:39:41.547607556Z"
    }
   },
   "id": "2d277635f8785ea8",
   "execution_count": 17
  },
  {
   "cell_type": "code",
   "outputs": [
    {
     "data": {
      "text/plain": "(128, 315, 24)"
     },
     "execution_count": 15,
     "metadata": {},
     "output_type": "execute_result"
    }
   ],
   "source": [
    "values.shape"
   ],
   "metadata": {
    "collapsed": false,
    "ExecuteTime": {
     "end_time": "2024-01-13T15:37:51.331583805Z",
     "start_time": "2024-01-13T15:37:51.328701124Z"
    }
   },
   "id": "d711588fbe701d4a",
   "execution_count": 15
  },
  {
   "cell_type": "code",
   "outputs": [],
   "source": [
    "## select only files that end with .pt\n",
    "import os\n",
    "files = os.listdir(folder)\n",
    "files = [f for f in files if f.endswith('.pt')]\n",
    "labels = []\n",
    "for file in files:\n",
    "   labels.append(torch.load(folder + file))\n",
    "labels = torch.cat(labels)"
   ],
   "metadata": {
    "collapsed": false,
    "ExecuteTime": {
     "end_time": "2024-01-13T15:47:42.192251963Z",
     "start_time": "2024-01-13T15:47:42.182849127Z"
    }
   },
   "id": "4ad3e23a3d698d8e",
   "execution_count": 22
  },
  {
   "cell_type": "code",
   "outputs": [
    {
     "name": "stdout",
     "output_type": "stream",
     "text": [
      "torch.Size([5184])\n",
      "27\n"
     ]
    }
   ],
   "source": [
    "print(labels.shape)\n",
    "print(len(labels.unique()))"
   ],
   "metadata": {
    "collapsed": false,
    "ExecuteTime": {
     "end_time": "2024-01-13T15:48:18.738321687Z",
     "start_time": "2024-01-13T15:48:18.697328150Z"
    }
   },
   "id": "bbcc01a613da1e63",
   "execution_count": 24
  },
  {
   "cell_type": "code",
   "outputs": [
    {
     "name": "stdout",
     "output_type": "stream",
     "text": [
      "(5184, 315, 24)\n"
     ]
    }
   ],
   "source": [
    "## select only files that end with .npy\n",
    "import os\n",
    "files = os.listdir(folder)\n",
    "files = [f for f in files if f.endswith('.npy')]\n",
    "spikes = []\n",
    "for file in files:\n",
    "    values = np.load(folder + file)\n",
    "    values = np.unpackbits(values,axis=0)\n",
    "    spikes.append(values)\n",
    "spikes = np.concatenate(spikes,axis=0)\n",
    "print(spikes.shape)"
   ],
   "metadata": {
    "collapsed": false,
    "ExecuteTime": {
     "end_time": "2024-01-13T15:50:30.935303847Z",
     "start_time": "2024-01-13T15:50:30.824391323Z"
    }
   },
   "id": "1072435edeec2ae5",
   "execution_count": 32
  },
  {
   "cell_type": "code",
   "outputs": [],
   "source": [
    "folder = 'GR_Braille_spikes_dataset/GR_Braille_nw_0/eval/'"
   ],
   "metadata": {
    "collapsed": false,
    "ExecuteTime": {
     "end_time": "2024-01-13T16:37:40.888839865Z",
     "start_time": "2024-01-13T16:37:40.873062768Z"
    }
   },
   "id": "4cdbc224f327acdb",
   "execution_count": 46
  },
  {
   "cell_type": "code",
   "outputs": [],
   "source": [
    "labels = torch.load(folder + 'GR_Braille_nw_0_0_label.pt')\n",
    "values = np.load(folder + 'GR_Braille_nw_0_0.npy')\n",
    "values = np.unpackbits(values,axis=0)"
   ],
   "metadata": {
    "collapsed": false,
    "ExecuteTime": {
     "end_time": "2024-01-13T16:37:41.148460620Z",
     "start_time": "2024-01-13T16:37:41.132211397Z"
    }
   },
   "id": "1eabfb6f3ff09be8",
   "execution_count": 47
  },
  {
   "cell_type": "code",
   "outputs": [
    {
     "name": "stdout",
     "output_type": "stream",
     "text": [
      "label shape torch.Size([128])\n",
      "label unique: 26\n"
     ]
    }
   ],
   "source": [
    "print('label shape',labels.shape)\n",
    "print('label unique:',len(labels.unique()))"
   ],
   "metadata": {
    "collapsed": false,
    "ExecuteTime": {
     "end_time": "2024-01-13T16:37:41.394172038Z",
     "start_time": "2024-01-13T16:37:41.386370022Z"
    }
   },
   "id": "bb00516603510820",
   "execution_count": 48
  },
  {
   "cell_type": "code",
   "outputs": [],
   "source": [
    "import os\n",
    "files = os.listdir(folder)\n",
    "files = [f for f in files if f.endswith('.pt')]\n",
    "labels = []\n",
    "for file in files:\n",
    "   labels.append(torch.load(folder + file))\n",
    "labels = torch.cat(labels)"
   ],
   "metadata": {
    "collapsed": false,
    "ExecuteTime": {
     "end_time": "2024-01-13T16:37:41.659118034Z",
     "start_time": "2024-01-13T16:37:41.640737751Z"
    }
   },
   "id": "f1b1b7896b96ca56",
   "execution_count": 49
  },
  {
   "cell_type": "code",
   "outputs": [
    {
     "name": "stdout",
     "output_type": "stream",
     "text": [
      "label shape torch.Size([1296])\n",
      "label unique: 27\n"
     ]
    }
   ],
   "source": [
    "print('label shape',labels.shape)\n",
    "print('label unique:',len(labels.unique()))"
   ],
   "metadata": {
    "collapsed": false,
    "ExecuteTime": {
     "end_time": "2024-01-13T16:37:42.534288825Z",
     "start_time": "2024-01-13T16:37:42.527159449Z"
    }
   },
   "id": "ea83c9c5469782a4",
   "execution_count": 50
  },
  {
   "cell_type": "code",
   "outputs": [],
   "source": [
    "folder = 'GR_Braille_spikes_dataset/GR_Braille_nw_0/test/'\n"
   ],
   "metadata": {
    "collapsed": false,
    "ExecuteTime": {
     "end_time": "2024-01-13T16:37:48.579688865Z",
     "start_time": "2024-01-13T16:37:48.574621756Z"
    }
   },
   "id": "989715924e4fd375",
   "execution_count": 51
  },
  {
   "cell_type": "code",
   "outputs": [],
   "source": [
    "labels = torch.load(folder + 'GR_Braille_nw_0_0_label.pt')\n",
    "values = np.load(folder + 'GR_Braille_nw_0_0.npy')\n",
    "values = np.unpackbits(values,axis=0)"
   ],
   "metadata": {
    "collapsed": false,
    "ExecuteTime": {
     "end_time": "2024-01-13T16:37:48.871685773Z",
     "start_time": "2024-01-13T16:37:48.850010389Z"
    }
   },
   "id": "3414124227acaea",
   "execution_count": 52
  },
  {
   "cell_type": "code",
   "outputs": [
    {
     "name": "stdout",
     "output_type": "stream",
     "text": [
      "label shape torch.Size([128])\n",
      "label unique: 27\n"
     ]
    }
   ],
   "source": [
    "print('label shape',labels.shape)\n",
    "print('label unique:',len(labels.unique()))"
   ],
   "metadata": {
    "collapsed": false,
    "ExecuteTime": {
     "end_time": "2024-01-13T16:37:49.054866948Z",
     "start_time": "2024-01-13T16:37:49.044959574Z"
    }
   },
   "id": "c0afb606b7ef2bc",
   "execution_count": 53
  },
  {
   "cell_type": "code",
   "outputs": [],
   "source": [
    "import os\n",
    "files = os.listdir(folder)\n",
    "files = [f for f in files if f.endswith('.pt')]\n",
    "labels = []\n",
    "for file in files:\n",
    "   labels.append(torch.load(folder + file))\n",
    "labels = torch.cat(labels)"
   ],
   "metadata": {
    "collapsed": false,
    "ExecuteTime": {
     "end_time": "2024-01-13T16:37:49.341571510Z",
     "start_time": "2024-01-13T16:37:49.330483612Z"
    }
   },
   "id": "47a526eba7fc6352",
   "execution_count": 54
  },
  {
   "cell_type": "code",
   "outputs": [
    {
     "name": "stdout",
     "output_type": "stream",
     "text": [
      "label shape torch.Size([1620])\n",
      "label unique: 27\n"
     ]
    }
   ],
   "source": [
    "print('label shape',labels.shape)\n",
    "print('label unique:',len(labels.unique()))"
   ],
   "metadata": {
    "collapsed": false,
    "ExecuteTime": {
     "end_time": "2024-01-13T16:37:49.813917538Z",
     "start_time": "2024-01-13T16:37:49.810351593Z"
    }
   },
   "id": "5d553bf3bf0f25d0",
   "execution_count": 55
  },
  {
   "cell_type": "code",
   "outputs": [],
   "source": [
    "folder = 'GR_MNIST_2Gen/GR_MNIST_0/train/'"
   ],
   "metadata": {
    "collapsed": false,
    "ExecuteTime": {
     "end_time": "2024-01-14T10:59:27.377332759Z",
     "start_time": "2024-01-14T10:59:27.351736473Z"
    }
   },
   "id": "fe0993fe3af6d04a",
   "execution_count": 4
  },
  {
   "cell_type": "code",
   "outputs": [],
   "source": [
    "labels = torch.load(folder + 'GR_MNIST_0_0_label.pt')\n",
    "values = np.load(folder + 'GR_MNIST_0_0.npy')\n",
    "values = np.unpackbits(values,axis=0)"
   ],
   "metadata": {
    "collapsed": false,
    "ExecuteTime": {
     "end_time": "2024-01-14T10:59:27.763680905Z",
     "start_time": "2024-01-14T10:59:27.701213491Z"
    }
   },
   "id": "6e8de1f490fd01e4",
   "execution_count": 5
  },
  {
   "cell_type": "code",
   "outputs": [
    {
     "name": "stdout",
     "output_type": "stream",
     "text": [
      "label shape torch.Size([128])\n",
      "label unique: 10\n"
     ]
    }
   ],
   "source": [
    "print('label shape',labels.shape)\n",
    "print('label unique:',len(labels.unique()))"
   ],
   "metadata": {
    "collapsed": false,
    "ExecuteTime": {
     "end_time": "2024-01-14T10:59:28.614286095Z",
     "start_time": "2024-01-14T10:59:28.600812171Z"
    }
   },
   "id": "8cf627e9f0f1d22d",
   "execution_count": 6
  },
  {
   "cell_type": "code",
   "outputs": [],
   "source": [
    "import os\n",
    "files = os.listdir(folder)\n",
    "files = [f for f in files if f.endswith('.pt')]\n",
    "labels = []\n",
    "for file in files:\n",
    "   labels.append(torch.load(folder + file))\n",
    "labels = torch.cat(labels)"
   ],
   "metadata": {
    "collapsed": false,
    "ExecuteTime": {
     "end_time": "2024-01-14T11:00:13.793473415Z",
     "start_time": "2024-01-14T11:00:13.756921040Z"
    }
   },
   "id": "562ce8a7f97fd7ff",
   "execution_count": 7
  },
  {
   "cell_type": "code",
   "outputs": [
    {
     "name": "stdout",
     "output_type": "stream",
     "text": [
      "label shape torch.Size([5120])\n",
      "label unique: 10\n"
     ]
    }
   ],
   "source": [
    "print('label shape',labels.shape)\n",
    "print('label unique:',len(labels.unique()))"
   ],
   "metadata": {
    "collapsed": false,
    "ExecuteTime": {
     "end_time": "2024-01-14T11:00:14.381577050Z",
     "start_time": "2024-01-14T11:00:14.376974183Z"
    }
   },
   "id": "5745ae4012b6adc3",
   "execution_count": 8
  },
  {
   "cell_type": "code",
   "outputs": [],
   "source": [
    "folder = 'GR_MNIST_2Gen/GR_MNIST_0/eval/'"
   ],
   "metadata": {
    "collapsed": false,
    "ExecuteTime": {
     "end_time": "2024-01-14T11:00:29.601649051Z",
     "start_time": "2024-01-14T11:00:29.594129486Z"
    }
   },
   "id": "226cf80a330e5b5f",
   "execution_count": 9
  },
  {
   "cell_type": "code",
   "outputs": [],
   "source": [
    "labels = torch.load(folder + 'GR_MNIST_0_0_label.pt')\n",
    "values = np.load(folder + 'GR_MNIST_0_0.npy')\n",
    "values = np.unpackbits(values,axis=0)"
   ],
   "metadata": {
    "collapsed": false,
    "ExecuteTime": {
     "end_time": "2024-01-14T11:00:29.995676160Z",
     "start_time": "2024-01-14T11:00:29.957839339Z"
    }
   },
   "id": "240ed43f2b7d34f5",
   "execution_count": 10
  },
  {
   "cell_type": "code",
   "outputs": [
    {
     "name": "stdout",
     "output_type": "stream",
     "text": [
      "label shape torch.Size([128])\n",
      "label unique: 10\n"
     ]
    }
   ],
   "source": [
    "print('label shape',labels.shape)\n",
    "print('label unique:',len(labels.unique()))"
   ],
   "metadata": {
    "collapsed": false,
    "ExecuteTime": {
     "end_time": "2024-01-14T11:00:30.481126184Z",
     "start_time": "2024-01-14T11:00:30.462865431Z"
    }
   },
   "id": "e119dd14217c7bf7",
   "execution_count": 11
  },
  {
   "cell_type": "code",
   "outputs": [],
   "source": [
    "import os\n",
    "files = os.listdir(folder)\n",
    "files = [f for f in files if f.endswith('.pt')]\n",
    "labels = []\n",
    "for file in files:\n",
    "   labels.append(torch.load(folder + file))\n",
    "labels = torch.cat(labels)"
   ],
   "metadata": {
    "collapsed": false,
    "ExecuteTime": {
     "end_time": "2024-01-14T11:00:38.109964003Z",
     "start_time": "2024-01-14T11:00:38.066448205Z"
    }
   },
   "id": "19a491a4b18fe643",
   "execution_count": 12
  },
  {
   "cell_type": "code",
   "outputs": [
    {
     "name": "stdout",
     "output_type": "stream",
     "text": [
      "label shape torch.Size([1536])\n",
      "label unique: 10\n"
     ]
    }
   ],
   "source": [
    "print('label shape',labels.shape)\n",
    "print('label unique:',len(labels.unique()))"
   ],
   "metadata": {
    "collapsed": false,
    "ExecuteTime": {
     "end_time": "2024-01-14T11:00:42.075064143Z",
     "start_time": "2024-01-14T11:00:42.061798554Z"
    }
   },
   "id": "5cde5cffb6556806",
   "execution_count": 13
  },
  {
   "cell_type": "code",
   "outputs": [],
   "source": [
    "folder = 'MN_output/GR_MNIST_0/test/'"
   ],
   "metadata": {
    "collapsed": false,
    "ExecuteTime": {
     "end_time": "2024-01-14T16:09:15.387843150Z",
     "start_time": "2024-01-14T16:09:15.364527372Z"
    }
   },
   "id": "69ee4f2b7ca7114d",
   "execution_count": 37
  },
  {
   "cell_type": "code",
   "outputs": [],
   "source": [
    "labels = torch.load(folder + 'GR_MNIST_0_0_label.pt')\n",
    "values = np.load(folder + 'GR_MNIST_0_0.npy')\n",
    "values = np.unpackbits(values,axis=0)"
   ],
   "metadata": {
    "collapsed": false,
    "ExecuteTime": {
     "end_time": "2024-01-14T16:09:15.585875216Z",
     "start_time": "2024-01-14T16:09:15.556554983Z"
    }
   },
   "id": "a7d6bd8db6a1eff7",
   "execution_count": 38
  },
  {
   "cell_type": "code",
   "outputs": [
    {
     "name": "stdout",
     "output_type": "stream",
     "text": [
      "label shape torch.Size([128])\n",
      "label unique: 10\n"
     ]
    }
   ],
   "source": [
    "print('label shape',labels.shape)\n",
    "print('label unique:',len(labels.unique()))"
   ],
   "metadata": {
    "collapsed": false,
    "ExecuteTime": {
     "end_time": "2024-01-14T16:09:15.724919357Z",
     "start_time": "2024-01-14T16:09:15.717906953Z"
    }
   },
   "id": "757a4c856e112fde",
   "execution_count": 39
  },
  {
   "cell_type": "code",
   "outputs": [],
   "source": [
    "import os\n",
    "files = os.listdir(folder)\n",
    "files = [f for f in files if f.endswith('.pt')]\n",
    "labels = []\n",
    "for file in files:\n",
    "   labels.append(torch.load(folder + file))\n",
    "labels = torch.cat(labels)"
   ],
   "metadata": {
    "collapsed": false,
    "ExecuteTime": {
     "end_time": "2024-01-14T16:09:16.100278305Z",
     "start_time": "2024-01-14T16:09:16.079261210Z"
    }
   },
   "id": "5d3e4072026e8df7",
   "execution_count": 40
  },
  {
   "cell_type": "code",
   "outputs": [
    {
     "name": "stdout",
     "output_type": "stream",
     "text": [
      "label shape torch.Size([1536])\n",
      "label unique: 10\n"
     ]
    }
   ],
   "source": [
    "print('label shape',labels.shape)\n",
    "print('label unique:',len(labels.unique()))"
   ],
   "metadata": {
    "collapsed": false,
    "ExecuteTime": {
     "end_time": "2024-01-14T16:09:16.739037515Z",
     "start_time": "2024-01-14T16:09:16.729429185Z"
    }
   },
   "id": "269562c4d94a4f91",
   "execution_count": 41
  },
  {
   "cell_type": "code",
   "outputs": [
    {
     "name": "stdout",
     "output_type": "stream",
     "text": [
      "GR_braille_w_0,train labels torch.Size([5184])\n",
      "GR_braille_w_0,train values (5184, 315, 24)\n",
      "GR_braille_w_0,train spikes 1470232\n",
      "GR_braille_w_1,train labels torch.Size([5184])\n",
      "GR_braille_w_1,train values (5184, 315, 24)\n",
      "GR_braille_w_1,train spikes 1421153\n",
      "GR_braille_w_2,train labels torch.Size([5184])\n",
      "GR_braille_w_2,train values (5184, 315, 24)\n",
      "GR_braille_w_2,train spikes 1465129\n",
      "GR_braille_w_3,train labels torch.Size([5184])\n",
      "GR_braille_w_3,train values (5184, 315, 24)\n",
      "GR_braille_w_3,train spikes 1419621\n",
      "GR_braille_w_4,train labels torch.Size([5184])\n",
      "GR_braille_w_4,train values (5184, 315, 24)\n",
      "GR_braille_w_4,train spikes 1508769\n",
      "GR_braille_w_5,train labels torch.Size([5184])\n",
      "GR_braille_w_5,train values (5184, 315, 24)\n",
      "GR_braille_w_5,train spikes 1412894\n",
      "GR_braille_w_6,train labels torch.Size([5184])\n",
      "GR_braille_w_6,train values (5184, 315, 24)\n",
      "GR_braille_w_6,train spikes 1400919\n",
      "GR_braille_w_7,train labels torch.Size([5184])\n",
      "GR_braille_w_7,train values (5184, 315, 24)\n",
      "GR_braille_w_7,train spikes 1389609\n",
      "GR_braille_w_8,train labels torch.Size([5184])\n",
      "GR_braille_w_8,train values (5184, 315, 24)\n",
      "GR_braille_w_8,train spikes 1427543\n",
      "GR_braille_w_9,train labels torch.Size([5184])\n",
      "GR_braille_w_9,train values (5184, 315, 24)\n",
      "GR_braille_w_9,train spikes 1419524\n",
      "GR_braille_w_10,train labels torch.Size([5184])\n",
      "GR_braille_w_10,train values (5184, 315, 24)\n",
      "GR_braille_w_10,train spikes 1406260\n",
      "GR_braille_w_11,train labels torch.Size([5184])\n",
      "GR_braille_w_11,train values (5184, 315, 24)\n",
      "GR_braille_w_11,train spikes 1392982\n",
      "GR_braille_w_12,train labels torch.Size([5184])\n",
      "GR_braille_w_12,train values (5184, 315, 24)\n",
      "GR_braille_w_12,train spikes 1479166\n",
      "GR_braille_w_13,train labels torch.Size([5184])\n",
      "GR_braille_w_13,train values (5184, 315, 24)\n",
      "GR_braille_w_13,train spikes 1427672\n",
      "GR_braille_w_14,train labels torch.Size([5184])\n",
      "GR_braille_w_14,train values (5184, 315, 24)\n",
      "GR_braille_w_14,train spikes 1438185\n",
      "GR_braille_w_15,train labels torch.Size([5184])\n",
      "GR_braille_w_15,train values (5184, 315, 24)\n",
      "GR_braille_w_15,train spikes 1470154\n",
      "GR_braille_w_16,train labels torch.Size([5184])\n",
      "GR_braille_w_16,train values (5184, 315, 24)\n",
      "GR_braille_w_16,train spikes 1507154\n",
      "GR_braille_w_17,train labels torch.Size([5184])\n",
      "GR_braille_w_17,train values (5184, 315, 24)\n",
      "GR_braille_w_17,train spikes 1454837\n",
      "GR_braille_w_18,train labels torch.Size([5184])\n",
      "GR_braille_w_18,train values (5184, 315, 24)\n",
      "GR_braille_w_18,train spikes 1455421\n",
      "GR_braille_w_19,train labels torch.Size([5184])\n",
      "GR_braille_w_19,train values (5184, 315, 24)\n",
      "GR_braille_w_19,train spikes 1390547\n",
      "GR_braille_w_0,eval labels torch.Size([1296])\n",
      "GR_braille_w_0,eval values (1296, 315, 24)\n",
      "GR_braille_w_0,eval spikes 367167\n",
      "GR_braille_w_1,eval labels torch.Size([1296])\n",
      "GR_braille_w_1,eval values (1296, 315, 24)\n",
      "GR_braille_w_1,eval spikes 355512\n",
      "GR_braille_w_2,eval labels torch.Size([1296])\n",
      "GR_braille_w_2,eval values (1296, 315, 24)\n",
      "GR_braille_w_2,eval spikes 365965\n",
      "GR_braille_w_3,eval labels torch.Size([1296])\n",
      "GR_braille_w_3,eval values (1296, 315, 24)\n",
      "GR_braille_w_3,eval spikes 351627\n",
      "GR_braille_w_4,eval labels torch.Size([1296])\n",
      "GR_braille_w_4,eval values (1296, 315, 24)\n",
      "GR_braille_w_4,eval spikes 374303\n",
      "GR_braille_w_5,eval labels torch.Size([1296])\n",
      "GR_braille_w_5,eval values (1296, 315, 24)\n",
      "GR_braille_w_5,eval spikes 354144\n",
      "GR_braille_w_6,eval labels torch.Size([1296])\n",
      "GR_braille_w_6,eval values (1296, 315, 24)\n",
      "GR_braille_w_6,eval spikes 350232\n",
      "GR_braille_w_7,eval labels torch.Size([1296])\n",
      "GR_braille_w_7,eval values (1296, 315, 24)\n",
      "GR_braille_w_7,eval spikes 349483\n",
      "GR_braille_w_8,eval labels torch.Size([1296])\n",
      "GR_braille_w_8,eval values (1296, 315, 24)\n",
      "GR_braille_w_8,eval spikes 355047\n",
      "GR_braille_w_9,eval labels torch.Size([1296])\n",
      "GR_braille_w_9,eval values (1296, 315, 24)\n",
      "GR_braille_w_9,eval spikes 355112\n",
      "GR_braille_w_10,eval labels torch.Size([1296])\n",
      "GR_braille_w_10,eval values (1296, 315, 24)\n",
      "GR_braille_w_10,eval spikes 350183\n",
      "GR_braille_w_11,eval labels torch.Size([1296])\n",
      "GR_braille_w_11,eval values (1296, 315, 24)\n",
      "GR_braille_w_11,eval spikes 350130\n",
      "GR_braille_w_12,eval labels torch.Size([1296])\n",
      "GR_braille_w_12,eval values (1296, 315, 24)\n",
      "GR_braille_w_12,eval spikes 366114\n",
      "GR_braille_w_13,eval labels torch.Size([1296])\n",
      "GR_braille_w_13,eval values (1296, 315, 24)\n",
      "GR_braille_w_13,eval spikes 356584\n",
      "GR_braille_w_14,eval labels torch.Size([1296])\n",
      "GR_braille_w_14,eval values (1296, 315, 24)\n",
      "GR_braille_w_14,eval spikes 360041\n",
      "GR_braille_w_15,eval labels torch.Size([1296])\n",
      "GR_braille_w_15,eval values (1296, 315, 24)\n",
      "GR_braille_w_15,eval spikes 369778\n",
      "GR_braille_w_16,eval labels torch.Size([1296])\n",
      "GR_braille_w_16,eval values (1296, 315, 24)\n",
      "GR_braille_w_16,eval spikes 377307\n",
      "GR_braille_w_17,eval labels torch.Size([1296])\n",
      "GR_braille_w_17,eval values (1296, 315, 24)\n",
      "GR_braille_w_17,eval spikes 366640\n",
      "GR_braille_w_18,eval labels torch.Size([1296])\n",
      "GR_braille_w_18,eval values (1296, 315, 24)\n",
      "GR_braille_w_18,eval spikes 364654\n",
      "GR_braille_w_19,eval labels torch.Size([1296])\n",
      "GR_braille_w_19,eval values (1296, 315, 24)\n",
      "GR_braille_w_19,eval spikes 345564\n",
      "GR_braille_w_0,test labels torch.Size([1620])\n",
      "GR_braille_w_0,test values (1620, 315, 24)\n",
      "GR_braille_w_0,test spikes 459165\n",
      "GR_braille_w_1,test labels torch.Size([1620])\n",
      "GR_braille_w_1,test values (1620, 315, 24)\n",
      "GR_braille_w_1,test spikes 445684\n",
      "GR_braille_w_2,test labels torch.Size([1620])\n",
      "GR_braille_w_2,test values (1620, 315, 24)\n",
      "GR_braille_w_2,test spikes 460376\n",
      "GR_braille_w_3,test labels torch.Size([1620])\n",
      "GR_braille_w_3,test values (1620, 315, 24)\n",
      "GR_braille_w_3,test spikes 447287\n",
      "GR_braille_w_4,test labels torch.Size([1620])\n",
      "GR_braille_w_4,test values (1620, 315, 24)\n",
      "GR_braille_w_4,test spikes 471876\n",
      "GR_braille_w_5,test labels torch.Size([1620])\n",
      "GR_braille_w_5,test values (1620, 315, 24)\n",
      "GR_braille_w_5,test spikes 440602\n",
      "GR_braille_w_6,test labels torch.Size([1620])\n",
      "GR_braille_w_6,test values (1620, 315, 24)\n",
      "GR_braille_w_6,test spikes 438318\n",
      "GR_braille_w_7,test labels torch.Size([1620])\n",
      "GR_braille_w_7,test values (1620, 315, 24)\n",
      "GR_braille_w_7,test spikes 434200\n",
      "GR_braille_w_8,test labels torch.Size([1620])\n",
      "GR_braille_w_8,test values (1620, 315, 24)\n",
      "GR_braille_w_8,test spikes 444825\n",
      "GR_braille_w_9,test labels torch.Size([1620])\n",
      "GR_braille_w_9,test values (1620, 315, 24)\n",
      "GR_braille_w_9,test spikes 443649\n",
      "GR_braille_w_10,test labels torch.Size([1620])\n",
      "GR_braille_w_10,test values (1620, 315, 24)\n",
      "GR_braille_w_10,test spikes 440519\n",
      "GR_braille_w_11,test labels torch.Size([1620])\n",
      "GR_braille_w_11,test values (1620, 315, 24)\n",
      "GR_braille_w_11,test spikes 438235\n",
      "GR_braille_w_12,test labels torch.Size([1620])\n",
      "GR_braille_w_12,test values (1620, 315, 24)\n",
      "GR_braille_w_12,test spikes 460352\n",
      "GR_braille_w_13,test labels torch.Size([1620])\n",
      "GR_braille_w_13,test values (1620, 315, 24)\n",
      "GR_braille_w_13,test spikes 446624\n",
      "GR_braille_w_14,test labels torch.Size([1620])\n",
      "GR_braille_w_14,test values (1620, 315, 24)\n",
      "GR_braille_w_14,test spikes 445275\n",
      "GR_braille_w_15,test labels torch.Size([1620])\n",
      "GR_braille_w_15,test values (1620, 315, 24)\n",
      "GR_braille_w_15,test spikes 461213\n",
      "GR_braille_w_16,test labels torch.Size([1620])\n",
      "GR_braille_w_16,test values (1620, 315, 24)\n",
      "GR_braille_w_16,test spikes 468784\n",
      "GR_braille_w_17,test labels torch.Size([1620])\n",
      "GR_braille_w_17,test values (1620, 315, 24)\n",
      "GR_braille_w_17,test spikes 453602\n",
      "GR_braille_w_18,test labels torch.Size([1620])\n",
      "GR_braille_w_18,test values (1620, 315, 24)\n",
      "GR_braille_w_18,test spikes 458445\n",
      "GR_braille_w_19,test labels torch.Size([1620])\n",
      "GR_braille_w_19,test values (1620, 315, 24)\n",
      "GR_braille_w_19,test spikes 435075\n"
     ]
    }
   ],
   "source": [
    "import glob\n",
    "folder = 'MN_Output_Braille_new/**'\n",
    "folders = glob.glob(folder)\n",
    "## sort by last number\n",
    "folders = sorted(folders, key=lambda x: int(x.split('/')[-1].split('_')[-1]))\n",
    "for ds_type in ['train','eval','test']:\n",
    "    for subfolder in folders:\n",
    "        # print(subfolder.split('/')[-1])\n",
    "        for subsubfolder in glob.glob(subfolder+f'/{ds_type}'):\n",
    "            \n",
    "            # print(subsubfolder.split('/')[-1])\n",
    "            files = glob.glob(subsubfolder+'/*')\n",
    "            files_l = [f for f in files if f.endswith('.pt')]\n",
    "            labels = []\n",
    "            # for file in files_l:\n",
    "            #    labels.append(torch.load(file))\n",
    "            # labels = torch.cat(labels)\n",
    "            \n",
    "            files_v = [f for f in files if f.endswith('.npy')]\n",
    "            values = []\n",
    "            for file in files_v:\n",
    "                label = torch.load(file.replace('.npy','_label.pt'))\n",
    "                value = np.load(file,allow_pickle=True)\n",
    "                value = np.unpackbits(value,axis=0,count=label.shape[0])\n",
    "                labels.append(label)\n",
    "                values.append(value)\n",
    "            labels = torch.cat(labels)\n",
    "            values = np.concatenate(values)\n",
    "            print(f'{subfolder.split(\"/\")[-1]},{ds_type} labels',labels.shape)\n",
    "            print(f'{subfolder.split(\"/\")[-1]},{ds_type} values',values.shape)\n",
    "            print(f'{subfolder.split(\"/\")[-1]},{ds_type} spikes',np.sum(values))"
   ],
   "metadata": {
    "collapsed": false,
    "ExecuteTime": {
     "end_time": "2024-01-15T17:58:45.802791576Z",
     "start_time": "2024-01-15T17:58:37.076346233Z"
    }
   },
   "id": "341d501f958e945c",
   "execution_count": 46
  },
  {
   "cell_type": "code",
   "outputs": [
    {
     "name": "stdout",
     "output_type": "stream",
     "text": [
      "GR_mnist_w_0,train labels torch.Size([5120])\n",
      "GR_mnist_w_0,train values (5120, 300, 784)\n",
      "GR_mnist_w_0,train spikes 219895584\n",
      "GR_mnist_w_1,train labels torch.Size([5120])\n",
      "GR_mnist_w_1,train values (5120, 300, 784)\n",
      "GR_mnist_w_1,train spikes 219131216\n",
      "GR_mnist_w_2,train labels torch.Size([5120])\n",
      "GR_mnist_w_2,train values (5120, 300, 784)\n",
      "GR_mnist_w_2,train spikes 220043590\n",
      "GR_mnist_w_3,train labels torch.Size([5120])\n",
      "GR_mnist_w_3,train values (5120, 300, 784)\n",
      "GR_mnist_w_3,train spikes 219401538\n",
      "GR_mnist_w_4,train labels torch.Size([5120])\n",
      "GR_mnist_w_4,train values (5120, 300, 784)\n",
      "GR_mnist_w_4,train spikes 219250655\n",
      "GR_mnist_w_5,train labels torch.Size([5120])\n",
      "GR_mnist_w_5,train values (5120, 300, 784)\n",
      "GR_mnist_w_5,train spikes 218672492\n",
      "GR_mnist_w_6,train labels torch.Size([5120])\n",
      "GR_mnist_w_6,train values (5120, 300, 784)\n",
      "GR_mnist_w_6,train spikes 219504926\n",
      "GR_mnist_w_7,train labels torch.Size([5120])\n",
      "GR_mnist_w_7,train values (5120, 300, 784)\n",
      "GR_mnist_w_7,train spikes 219857497\n",
      "GR_mnist_w_8,train labels torch.Size([5120])\n",
      "GR_mnist_w_8,train values (5120, 300, 784)\n",
      "GR_mnist_w_8,train spikes 219967815\n",
      "GR_mnist_w_9,train labels torch.Size([5120])\n",
      "GR_mnist_w_9,train values (5120, 300, 784)\n",
      "GR_mnist_w_9,train spikes 219910254\n",
      "GR_mnist_w_10,train labels torch.Size([5120])\n",
      "GR_mnist_w_10,train values (5120, 300, 784)\n",
      "GR_mnist_w_10,train spikes 219415581\n",
      "GR_mnist_w_11,train labels torch.Size([5120])\n",
      "GR_mnist_w_11,train values (5120, 300, 784)\n",
      "GR_mnist_w_11,train spikes 219365091\n",
      "GR_mnist_w_12,train labels torch.Size([5120])\n",
      "GR_mnist_w_12,train values (5120, 300, 784)\n",
      "GR_mnist_w_12,train spikes 219170726\n",
      "GR_mnist_w_13,train labels torch.Size([5120])\n",
      "GR_mnist_w_13,train values (5120, 300, 784)\n",
      "GR_mnist_w_13,train spikes 219343412\n",
      "GR_mnist_w_14,train labels torch.Size([5120])\n",
      "GR_mnist_w_14,train values (5120, 300, 784)\n",
      "GR_mnist_w_14,train spikes 219362690\n",
      "GR_mnist_w_15,train labels torch.Size([5120])\n",
      "GR_mnist_w_15,train values (5120, 300, 784)\n",
      "GR_mnist_w_15,train spikes 219198713\n",
      "GR_mnist_w_16,train labels torch.Size([5120])\n",
      "GR_mnist_w_16,train values (5120, 300, 784)\n",
      "GR_mnist_w_16,train spikes 219312520\n",
      "GR_mnist_w_17,train labels torch.Size([5120])\n",
      "GR_mnist_w_17,train values (5120, 300, 784)\n",
      "GR_mnist_w_17,train spikes 219189329\n",
      "GR_mnist_w_18,train labels torch.Size([5120])\n",
      "GR_mnist_w_18,train values (5120, 300, 784)\n",
      "GR_mnist_w_18,train spikes 220068641\n",
      "GR_mnist_w_19,train labels torch.Size([5120])\n",
      "GR_mnist_w_19,train values (5120, 300, 784)\n",
      "GR_mnist_w_19,train spikes 219824983\n",
      "GR_mnist_w_0,eval labels torch.Size([1280])\n",
      "GR_mnist_w_0,eval values (1280, 300, 784)\n",
      "GR_mnist_w_0,eval spikes 55281505\n",
      "GR_mnist_w_1,eval labels torch.Size([1280])\n",
      "GR_mnist_w_1,eval values (1280, 300, 784)\n",
      "GR_mnist_w_1,eval spikes 55128725\n",
      "GR_mnist_w_2,eval labels torch.Size([1280])\n",
      "GR_mnist_w_2,eval values (1280, 300, 784)\n",
      "GR_mnist_w_2,eval spikes 55277529\n",
      "GR_mnist_w_3,eval labels torch.Size([1280])\n",
      "GR_mnist_w_3,eval values (1280, 300, 784)\n",
      "GR_mnist_w_3,eval spikes 55161890\n",
      "GR_mnist_w_4,eval labels torch.Size([1280])\n",
      "GR_mnist_w_4,eval values (1280, 300, 784)\n",
      "GR_mnist_w_4,eval spikes 55154265\n",
      "GR_mnist_w_5,eval labels torch.Size([1280])\n",
      "GR_mnist_w_5,eval values (1280, 300, 784)\n",
      "GR_mnist_w_5,eval spikes 55012630\n",
      "GR_mnist_w_6,eval labels torch.Size([1280])\n",
      "GR_mnist_w_6,eval values (1280, 300, 784)\n",
      "GR_mnist_w_6,eval spikes 55196447\n",
      "GR_mnist_w_7,eval labels torch.Size([1280])\n",
      "GR_mnist_w_7,eval values (1280, 300, 784)\n",
      "GR_mnist_w_7,eval spikes 55283126\n",
      "GR_mnist_w_8,eval labels torch.Size([1280])\n",
      "GR_mnist_w_8,eval values (1280, 300, 784)\n",
      "GR_mnist_w_8,eval spikes 55263648\n",
      "GR_mnist_w_9,eval labels torch.Size([1280])\n",
      "GR_mnist_w_9,eval values (1280, 300, 784)\n",
      "GR_mnist_w_9,eval spikes 55279309\n",
      "GR_mnist_w_10,eval labels torch.Size([1280])\n",
      "GR_mnist_w_10,eval values (1280, 300, 784)\n",
      "GR_mnist_w_10,eval spikes 55147841\n",
      "GR_mnist_w_11,eval labels torch.Size([1280])\n",
      "GR_mnist_w_11,eval values (1280, 300, 784)\n",
      "GR_mnist_w_11,eval spikes 55153903\n",
      "GR_mnist_w_12,eval labels torch.Size([1280])\n",
      "GR_mnist_w_12,eval values (1280, 300, 784)\n",
      "GR_mnist_w_12,eval spikes 55152853\n",
      "GR_mnist_w_13,eval labels torch.Size([1280])\n",
      "GR_mnist_w_13,eval values (1280, 300, 784)\n",
      "GR_mnist_w_13,eval spikes 55166122\n",
      "GR_mnist_w_14,eval labels torch.Size([1280])\n",
      "GR_mnist_w_14,eval values (1280, 300, 784)\n",
      "GR_mnist_w_14,eval spikes 55152951\n",
      "GR_mnist_w_15,eval labels torch.Size([1280])\n",
      "GR_mnist_w_15,eval values (1280, 300, 784)\n",
      "GR_mnist_w_15,eval spikes 55116482\n",
      "GR_mnist_w_16,eval labels torch.Size([1280])\n",
      "GR_mnist_w_16,eval values (1280, 300, 784)\n",
      "GR_mnist_w_16,eval spikes 55154212\n",
      "GR_mnist_w_17,eval labels torch.Size([1280])\n",
      "GR_mnist_w_17,eval values (1280, 300, 784)\n",
      "GR_mnist_w_17,eval spikes 55156529\n",
      "GR_mnist_w_18,eval labels torch.Size([1280])\n",
      "GR_mnist_w_18,eval values (1280, 300, 784)\n",
      "GR_mnist_w_18,eval spikes 55283851\n",
      "GR_mnist_w_19,eval labels torch.Size([1280])\n",
      "GR_mnist_w_19,eval values (1280, 300, 784)\n",
      "GR_mnist_w_19,eval spikes 55285256\n",
      "GR_mnist_w_0,test labels torch.Size([1536])\n",
      "GR_mnist_w_0,test values (1536, 300, 784)\n",
      "GR_mnist_w_0,test spikes 66251747\n",
      "GR_mnist_w_1,test labels torch.Size([1536])\n",
      "GR_mnist_w_1,test values (1536, 300, 784)\n",
      "GR_mnist_w_1,test spikes 66047782\n",
      "GR_mnist_w_2,test labels torch.Size([1536])\n",
      "GR_mnist_w_2,test values (1536, 300, 784)\n",
      "GR_mnist_w_2,test spikes 66525871\n",
      "GR_mnist_w_3,test labels torch.Size([1536])\n",
      "GR_mnist_w_3,test values (1536, 300, 784)\n",
      "GR_mnist_w_3,test spikes 66413249\n",
      "GR_mnist_w_4,test labels torch.Size([1536])\n",
      "GR_mnist_w_4,test values (1536, 300, 784)\n",
      "GR_mnist_w_4,test spikes 66141872\n",
      "GR_mnist_w_5,test labels torch.Size([1536])\n",
      "GR_mnist_w_5,test values (1536, 300, 784)\n",
      "GR_mnist_w_5,test spikes 65712105\n",
      "GR_mnist_w_6,test labels torch.Size([1536])\n",
      "GR_mnist_w_6,test values (1536, 300, 784)\n",
      "GR_mnist_w_6,test spikes 65794535\n",
      "GR_mnist_w_7,test labels torch.Size([1536])\n",
      "GR_mnist_w_7,test values (1536, 300, 784)\n",
      "GR_mnist_w_7,test spikes 66370643\n",
      "GR_mnist_w_8,test labels torch.Size([1536])\n",
      "GR_mnist_w_8,test values (1536, 300, 784)\n",
      "GR_mnist_w_8,test spikes 66783365\n",
      "GR_mnist_w_9,test labels torch.Size([1536])\n",
      "GR_mnist_w_9,test values (1536, 300, 784)\n",
      "GR_mnist_w_9,test spikes 66145035\n",
      "GR_mnist_w_10,test labels torch.Size([1536])\n",
      "GR_mnist_w_10,test values (1536, 300, 784)\n",
      "GR_mnist_w_10,test spikes 65978341\n",
      "GR_mnist_w_11,test labels torch.Size([1536])\n",
      "GR_mnist_w_11,test values (1536, 300, 784)\n",
      "GR_mnist_w_11,test spikes 67294214\n",
      "GR_mnist_w_12,test labels torch.Size([1536])\n",
      "GR_mnist_w_12,test values (1536, 300, 784)\n",
      "GR_mnist_w_12,test spikes 66842667\n",
      "GR_mnist_w_13,test labels torch.Size([1536])\n",
      "GR_mnist_w_13,test values (1536, 300, 784)\n",
      "GR_mnist_w_13,test spikes 66224372\n",
      "GR_mnist_w_14,test labels torch.Size([1536])\n",
      "GR_mnist_w_14,test values (1536, 300, 784)\n",
      "GR_mnist_w_14,test spikes 66208003\n",
      "GR_mnist_w_15,test labels torch.Size([1536])\n",
      "GR_mnist_w_15,test values (1536, 300, 784)\n",
      "GR_mnist_w_15,test spikes 66536210\n",
      "GR_mnist_w_16,test labels torch.Size([1536])\n",
      "GR_mnist_w_16,test values (1536, 300, 784)\n",
      "GR_mnist_w_16,test spikes 66312571\n",
      "GR_mnist_w_17,test labels torch.Size([1536])\n",
      "GR_mnist_w_17,test values (1536, 300, 784)\n",
      "GR_mnist_w_17,test spikes 67107493\n",
      "GR_mnist_w_18,test labels torch.Size([1536])\n",
      "GR_mnist_w_18,test values (1536, 300, 784)\n",
      "GR_mnist_w_18,test spikes 66758230\n",
      "GR_mnist_w_19,test labels torch.Size([1536])\n",
      "GR_mnist_w_19,test values (1536, 300, 784)\n",
      "GR_mnist_w_19,test spikes 66234034\n"
     ]
    }
   ],
   "source": [
    "import glob\n",
    "folder = 'MN_Output_MNIST/**'\n",
    "folders = glob.glob(folder)\n",
    "## sort by last number\n",
    "folders = sorted(folders, key=lambda x: int(x.split('/')[-1].split('_')[-1]))\n",
    "for ds_type in ['train','eval','test']:\n",
    "    for subfolder in folders:\n",
    "        # print(subfolder.split('/')[-1])\n",
    "        for subsubfolder in glob.glob(subfolder+f'/{ds_type}'):\n",
    "            \n",
    "            # print(subsubfolder.split('/')[-1])\n",
    "            files = glob.glob(subsubfolder+'/*')\n",
    "            files_l = [f for f in files if f.endswith('.pt')]\n",
    "            labels = []\n",
    "            # for file in files_l:\n",
    "            #    labels.append(torch.load(file))\n",
    "            # labels = torch.cat(labels)\n",
    "            \n",
    "            files_v = [f for f in files if f.endswith('.npy')]\n",
    "            values = []\n",
    "            for file in files_v:\n",
    "                label = torch.load(file.replace('.npy','_label.pt'))\n",
    "                value = np.load(file,allow_pickle=True)\n",
    "                value = np.unpackbits(value,axis=0,count=label.shape[0])\n",
    "                labels.append(label)\n",
    "                values.append(value)\n",
    "            labels = torch.cat(labels)\n",
    "            values = np.concatenate(values)\n",
    "            print(f'{subfolder.split(\"/\")[-1]},{ds_type} labels',labels.shape)\n",
    "            print(f'{subfolder.split(\"/\")[-1]},{ds_type} values',values.shape)\n",
    "            print(f'{subfolder.split(\"/\")[-1]},{ds_type} spikes',np.sum(values))"
   ],
   "metadata": {
    "collapsed": false,
    "ExecuteTime": {
     "end_time": "2024-01-16T16:47:50.502521178Z",
     "start_time": "2024-01-16T16:46:25.232847606Z"
    }
   },
   "id": "84670f2cd320cf95",
   "execution_count": 5
  },
  {
   "cell_type": "code",
   "outputs": [
    {
     "name": "stdout",
     "output_type": "stream",
     "text": [
      "./MN_params_new/GR_braille_w_0.json,./MN_params_new/GR_braille_w_1.json,./MN_params_new/GR_braille_w_2.json,./MN_params_new/GR_braille_w_3.json,./MN_params_new/GR_braille_w_4.json,./MN_params_new/GR_braille_w_5.json,./MN_params_new/GR_braille_w_6.json,./MN_params_new/GR_braille_w_7.json,./MN_params_new/GR_braille_w_8.json,./MN_params_new/GR_braille_w_9.json,./MN_params_new/GR_braille_w_10.json,./MN_params_new/GR_braille_w_11.json,./MN_params_new/GR_braille_w_12.json,./MN_params_new/GR_braille_w_13.json,./MN_params_new/GR_braille_w_14.json,./MN_params_new/GR_braille_w_15.json,./MN_params_new/GR_braille_w_16.json,./MN_params_new/GR_braille_w_17.json,./MN_params_new/GR_braille_w_18.json,./MN_params_new/GR_braille_w_19.json\n"
     ]
    }
   ],
   "source": [
    "names = [f'./MN_params_new/GR_braille_w_{i}.json' for i in range(20)]\n",
    "print(','.join(names))"
   ],
   "metadata": {
    "collapsed": false,
    "ExecuteTime": {
     "end_time": "2024-01-15T17:46:16.153779219Z",
     "start_time": "2024-01-15T17:46:16.110703514Z"
    }
   },
   "id": "46cb17744aa0ac9b",
   "execution_count": 44
  },
  {
   "cell_type": "code",
   "outputs": [
    {
     "name": "stdout",
     "output_type": "stream",
     "text": [
      "GR_braille_w_0,GR_braille_w_1,GR_braille_w_2,GR_braille_w_3,GR_braille_w_4,GR_braille_w_5,GR_braille_w_6,GR_braille_w_7,GR_braille_w_8,GR_braille_w_9,GR_braille_w_10,GR_braille_w_11,GR_braille_w_12,GR_braille_w_13,GR_braille_w_14,GR_braille_w_15,GR_braille_w_16,GR_braille_w_17,GR_braille_w_18,GR_braille_w_19\n"
     ]
    }
   ],
   "source": [
    "names = [f'GR_braille_w_{i}' for i in range(20)]\n",
    "print(','.join(names))"
   ],
   "metadata": {
    "collapsed": false,
    "ExecuteTime": {
     "end_time": "2024-01-15T17:50:15.997600723Z",
     "start_time": "2024-01-15T17:50:15.945212960Z"
    }
   },
   "id": "eb337563e6994ba7",
   "execution_count": 45
  },
  {
   "cell_type": "code",
   "outputs": [
    {
     "name": "stdout",
     "output_type": "stream",
     "text": [
      "./MN_params_new/GR_mnist_w_0.json,./MN_params_new/GR_mnist_w_1.json,./MN_params_new/GR_mnist_w_2.json,./MN_params_new/GR_mnist_w_3.json,./MN_params_new/GR_mnist_w_4.json,./MN_params_new/GR_mnist_w_5.json,./MN_params_new/GR_mnist_w_6.json,./MN_params_new/GR_mnist_w_7.json,./MN_params_new/GR_mnist_w_8.json,./MN_params_new/GR_mnist_w_9.json,./MN_params_new/GR_mnist_w_10.json,./MN_params_new/GR_mnist_w_11.json,./MN_params_new/GR_mnist_w_12.json,./MN_params_new/GR_mnist_w_13.json,./MN_params_new/GR_mnist_w_14.json,./MN_params_new/GR_mnist_w_15.json,./MN_params_new/GR_mnist_w_16.json,./MN_params_new/GR_mnist_w_17.json,./MN_params_new/GR_mnist_w_18.json,./MN_params_new/GR_mnist_w_19.json\n"
     ]
    }
   ],
   "source": [
    "names = [f'./MN_params_new/GR_mnist_w_{i}.json' for i in range(20)]\n",
    "print(','.join(names))"
   ],
   "metadata": {
    "collapsed": false,
    "ExecuteTime": {
     "end_time": "2024-01-16T10:00:17.602525094Z",
     "start_time": "2024-01-16T10:00:17.582604896Z"
    }
   },
   "id": "c3308d80db47204e",
   "execution_count": 1
  },
  {
   "cell_type": "code",
   "outputs": [
    {
     "name": "stdout",
     "output_type": "stream",
     "text": [
      "./MN_params_new/GR_mnist_compressed_w_0.json,./MN_params_new/GR_mnist_compressed_w_1.json,./MN_params_new/GR_mnist_compressed_w_2.json,./MN_params_new/GR_mnist_compressed_w_3.json,./MN_params_new/GR_mnist_compressed_w_4.json,./MN_params_new/GR_mnist_compressed_w_5.json,./MN_params_new/GR_mnist_compressed_w_6.json,./MN_params_new/GR_mnist_compressed_w_7.json,./MN_params_new/GR_mnist_compressed_w_8.json,./MN_params_new/GR_mnist_compressed_w_9.json,./MN_params_new/GR_mnist_compressed_w_10.json,./MN_params_new/GR_mnist_compressed_w_11.json,./MN_params_new/GR_mnist_compressed_w_12.json,./MN_params_new/GR_mnist_compressed_w_13.json,./MN_params_new/GR_mnist_compressed_w_14.json,./MN_params_new/GR_mnist_compressed_w_15.json,./MN_params_new/GR_mnist_compressed_w_16.json,./MN_params_new/GR_mnist_compressed_w_17.json,./MN_params_new/GR_mnist_compressed_w_18.json,./MN_params_new/GR_mnist_compressed_w_19.json\n"
     ]
    }
   ],
   "source": [
    "names = [f'./MN_params_new/GR_mnist_compressed_w_{i}.json' for i in range(20)]\n",
    "print(','.join(names))"
   ],
   "metadata": {
    "collapsed": false,
    "ExecuteTime": {
     "end_time": "2024-01-16T16:43:14.285516927Z",
     "start_time": "2024-01-16T16:43:14.243410236Z"
    }
   },
   "id": "353d8e85ee0ded13",
   "execution_count": 2
  },
  {
   "cell_type": "code",
   "outputs": [],
   "source": [],
   "metadata": {
    "collapsed": false
   },
   "id": "2fa41c168db24769"
  }
 ],
 "metadata": {
  "kernelspec": {
   "display_name": "Python 3",
   "language": "python",
   "name": "python3"
  },
  "language_info": {
   "codemirror_mode": {
    "name": "ipython",
    "version": 2
   },
   "file_extension": ".py",
   "mimetype": "text/x-python",
   "name": "python",
   "nbconvert_exporter": "python",
   "pygments_lexer": "ipython2",
   "version": "2.7.6"
  }
 },
 "nbformat": 4,
 "nbformat_minor": 5
}
