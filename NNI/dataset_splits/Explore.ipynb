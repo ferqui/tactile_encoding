{
 "cells": [
  {
   "cell_type": "code",
   "execution_count": 82,
   "metadata": {},
   "outputs": [],
   "source": [
    "import numpy as np\n",
    "import torch\n",
    "from torch.utils.data import DataLoader\n",
    "import matplotlib.pyplot as plt\n",
    "import seaborn as sn"
   ]
  },
  {
   "cell_type": "code",
   "execution_count": 83,
   "metadata": {},
   "outputs": [],
   "source": [
    "# Specify what kind of data to use\n",
    "original = False\n",
    "fixed_length = not original\n",
    "noise = True\n",
    "jitter = True\n",
    "\n",
    "subset = \"train\"\n",
    "\n",
    "# prepare data selection\n",
    "name = \"\"\n",
    "data_features = [original, fixed_length, noise, jitter]\n",
    "data_attributes = [\"original\", \"fix_len\", \"noisy\", \"temp_jitter\"]\n",
    "for num,el in enumerate(list(np.where(np.array(data_features)==True)[0])):\n",
    "    name += \"{} \".format(data_attributes[el])\n",
    "name = name[:-1]\n",
    "name = name.replace(\" \",\"_\")\n",
    "\n",
    "idx = np.random.randint(0, 10)"
   ]
  },
  {
   "cell_type": "code",
   "execution_count": 84,
   "metadata": {},
   "outputs": [],
   "source": [
    "if subset == \"test\":\n",
    "    ds = torch.load(\"./{}/{}_ds_{}.pt\".format(name,name,subset))\n",
    "else:\n",
    "    ds = torch.load(\"./{}/{}_ds_{}_{}.pt\".format(name,name,subset,idx))"
   ]
  },
  {
   "cell_type": "code",
   "execution_count": 85,
   "metadata": {},
   "outputs": [],
   "source": [
    "labels = []\n",
    "\n",
    "for num in range(len(ds)):\n",
    "    labels.append(ds[num][1].numpy().item())"
   ]
  },
  {
   "cell_type": "code",
   "execution_count": 86,
   "metadata": {},
   "outputs": [],
   "source": [
    "labels_mapping = {\n",
    "    'A': \"Tonic spiking\",\n",
    "    'B': \"Class 1\",\n",
    "    'C': \"Spike frequency adaptation\",\n",
    "    'D': \"Phasic spiking\",\n",
    "    'E': \"Accommodation\",\n",
    "    'F': \"Threshold variability\",\n",
    "    'G': \"Rebound spike\",\n",
    "    'H': \"Class 2\",\n",
    "    'I': \"Integrator\",\n",
    "    'J': \"Input bistability\",\n",
    "    'K': \"Hyperpolarizing spiking\",\n",
    "    'L': \"Hyperpolarizing bursting\",\n",
    "    'M': \"Tonic bursting\",\n",
    "    'N': \"Phasic bursting\",\n",
    "    'O': \"Rebound burst\",\n",
    "    'P': \"Mixed mode\",\n",
    "    'Q': \"Afterpotentials\",\n",
    "    'R': \"Basal bistability\",\n",
    "    'S': \"Preferred frequency\",\n",
    "    'T': \"Spike latency\",\n",
    "}"
   ]
  },
  {
   "cell_type": "code",
   "execution_count": 90,
   "metadata": {},
   "outputs": [
    {
     "data": {
      "image/png": "[encoded data removed]",
      "text/plain": [
       "<Figure size 640x480 with 1 Axes>"
      ]
     },
     "metadata": {},
     "output_type": "display_data"
    }
   ],
   "source": [
    "count = []\n",
    "for num,el in enumerate(labels):\n",
    "    count.append(len(np.where(np.array(labels)==el)[0]))\n",
    "\n",
    "plt.scatter(labels,count)\n",
    "if subset == \"test\":\n",
    "    plt.title(\"ds_{}\".format(subset))\n",
    "else:\n",
    "    plt.title(\"ds_{} (split {})\".format(subset,idx))\n",
    "plt.xlabel(\"Label\")\n",
    "plt.ylabel(\"Count\")\n",
    "plt.ylim((np.min(count)-2.5,np.max(count)+2.5))\n",
    "plt.xticks(range(0,20),list(labels_mapping.keys()))\n",
    "plt.yticks(range(np.min(count)-2,np.max(count)+3))\n",
    "plt.show()"
   ]
  },
  {
   "cell_type": "code",
   "execution_count": null,
   "metadata": {},
   "outputs": [],
   "source": []
  }
 ],
 "metadata": {
  "kernelspec": {
   "display_name": "Python 3.9.13 ('env_nteEnc': conda)",
   "language": "python",
   "name": "python3"
  },
  "language_info": {
   "codemirror_mode": {
    "name": "ipython",
    "version": 3
   },
   "file_extension": ".py",
   "mimetype": "text/x-python",
   "name": "python",
   "nbconvert_exporter": "python",
   "pygments_lexer": "ipython3",
   "version": "3.9.13"
  },
  "orig_nbformat": 4,
  "vscode": {
   "interpreter": {
    "hash": "77798a54e7665e7cdc06a08ee54c1994981fcf46c4af6330a97b3c21e089a8c7"
   }
  }
 },
 "nbformat": 4,
 "nbformat_minor": 2
}
