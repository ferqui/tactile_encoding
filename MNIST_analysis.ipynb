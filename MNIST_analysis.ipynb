{
 "cells": [
  {
   "cell_type": "markdown",
   "id": "3a4c435c-31a0-4664-8847-0bb61eb69152",
   "metadata": {},
   "source": [
    "# MNIST Analysis"
   ]
  },
  {
   "cell_type": "code",
   "execution_count": 1,
   "id": "6dd8c6b5-9adf-4c0c-bdc8-7107f9b52ae9",
   "metadata": {},
   "outputs": [],
   "source": [
    "from torch.utils.data import TensorDataset, DataLoader\n",
    "from torchvision.datasets import MNIST\n",
    "from torchvision import transforms\n",
    "import torch\n",
    "from utils_dataset import ToCurrent, load_MNIST, set_random_seed, get_fft, extract_interval\n",
    "import numpy as np\n",
    "import matplotlib.pyplot as plt\n",
    "from pathlib import Path\n",
    "import os\n",
    "\n",
    "seed = 42\n",
    "device = torch.device(\"cuda\") if torch.cuda.is_available() else torch.device(\"cpu\")\n",
    "generator = set_random_seed(seed, add_generator=True, device=device)\n",
    "shuffle_data = False\n",
    "\n",
    "folder = Path('dataset_analysis')\n",
    "folder_run = Path(os.path.join(folder,'MNIST'))\n",
    "folder_fig = folder_run.joinpath('fig')\n",
    "folder_data = folder_run.joinpath('data')\n",
    "folder_fig.mkdir(parents=True, exist_ok=True)\n",
    "folder_data.mkdir(parents=True, exist_ok=True)"
   ]
  },
  {
   "cell_type": "code",
   "execution_count": 2,
   "id": "bd67ab04-f8b3-4e93-b459-ae8243f200f3",
   "metadata": {},
   "outputs": [],
   "source": [
    "import torch\n",
    "import torch.nn as nn\n",
    "import argparse\n",
    "import matplotlib.pyplot as plt\n",
    "from pathlib import Path\n",
    "from tqdm import trange\n",
    "import seaborn as sns\n",
    "import numpy as np\n",
    "from datasets import load_data\n",
    "from sklearn.model_selection import train_test_split\n",
    "from torch.utils.data import TensorDataset, DataLoader\n",
    "from numpy.fft import rfft, rfftfreq\n",
    "import tqdm\n",
    "import os\n",
    "from scipy import signal\n",
    "import json\n",
    "from torchvision.datasets import MNIST\n",
    "\n",
    "firing_mode_dict = {\n",
    "    \"FA\": {\"a\": 5, \"A1\": 0, \"A2\": 0},\n",
    "    \"SA\": {\"a\": 0, \"A1\": 0, \"A2\": 0},\n",
    "    \"MIX\": {\"a\": 5, \"A1\": 5, \"A2\": -0.3},\n",
    "}\n",
    "\n",
    "g = torch.Generator()\n",
    "\n",
    "# def classifier(train_dl, test_dl, epochs=None, batch_size=100, generator=None):\n",
    "\n",
    "#     print(f'Len test set {len(test_dl)}')\n",
    "    \n",
    "#     classifier = nn.Sequential(\n",
    "#         nn.Linear(data.shape[1], len(np.unique(labels))),\n",
    "#     ).to(device)\n",
    "#     optimizer = torch.optim.Adam(classifier.parameters(), lr=0.001)\n",
    "#     if epochs is None:\n",
    "#         epochs = trange(100, desc=f\"Classifier\")\n",
    "#     else:\n",
    "#         epochs.reset()\n",
    "#     batches = tqdm.tqdm(train_dl, desc=\"Epoch\", disable=True)\n",
    "#     loss = nn.CrossEntropyLoss()\n",
    "#     loss_coll = []\n",
    "#     acc_coll = []\n",
    "    \n",
    "#     list_acc_last_epoch = []\n",
    "#     n_epochs = 100\n",
    "#     for epoch in range(n_epochs):\n",
    "#         loss_list = []\n",
    "#         acc_list = []\n",
    "#         batches.reset()\n",
    "#         batches.set_description('Training')\n",
    "        \n",
    "#         for batch_idx, (data, target) in enumerate(train_dl):\n",
    "#             data = data.float()\n",
    "#             target = target.long()\n",
    "#             out = classifier(data)\n",
    "#             loss_val = loss(out, target)\n",
    "#             loss_val.backward()\n",
    "#             optimizer.step()\n",
    "#             optimizer.zero_grad()\n",
    "#             loss_list.append(loss_val.item())\n",
    "#             batches.update()\n",
    "            \n",
    "#         batches.reset(total=len(test_dl))\n",
    "#         batches.set_description('Testing')\n",
    "        \n",
    "#         with torch.no_grad():\n",
    "#             for batch_idx, (data, target) in enumerate(test_dl):\n",
    "#                 data = data.float()\n",
    "#                 target = target.long()\n",
    "#                 out = classifier(data)\n",
    "                \n",
    "#                 acc = torch.mean((torch.argmax(out, dim=1) == target).to(torch.int16), dtype=torch.float)\n",
    "#                 acc_list.append(acc.item())\n",
    "#                 if epoch == (n_epochs-1):\n",
    "#                     list_acc_last_epoch.append(acc.tolist())\n",
    "#                 batches.update()\n",
    "                \n",
    "#         loss_coll.append(np.mean(loss_list))\n",
    "#         acc_coll.append(np.mean(acc_list))\n",
    "#         epochs.set_postfix_str(f\"Loss: {np.mean(loss_list):.3f}, Acc: {np.mean(acc_list):.3f}\")\n",
    "#         epochs.update()\n",
    "        \n",
    "#     return loss_coll,acc_coll, list_acc_last_epoch\n",
    "\n",
    "def classify_fft(center, span, train_dl, test_dl, epochs, dt, n_time_steps, sample_size=10, device=device):\n",
    "    examples = enumerate(train_dl)\n",
    "    batch_idx, (example_data, example_targets) = next(examples)\n",
    "    print('Samples shape:', example_data.shape)\n",
    "    \n",
    "    n_ch = example_data.shape[-1]\n",
    "    xf = rfftfreq(n_time_steps, dt)\n",
    "    \n",
    "    classifier = nn.Sequential(nn.Linear(n_ch, len(np.unique(train_dl.dataset.targets))),).to(device)\n",
    "    optimizer = torch.optim.Adam(classifier.parameters(), lr=0.001)\n",
    "    if epochs is None:\n",
    "        epochs = trange(100, desc=f\"Classifier\")\n",
    "    else:\n",
    "        epochs.reset()\n",
    "    batches = tqdm.tqdm(train_dl, desc=\"Epoch\", disable=True)\n",
    "    loss = nn.CrossEntropyLoss()\n",
    "    loss_coll = []\n",
    "    acc_coll = []\n",
    "    \n",
    "    for batch_idx, (data, targets) in enumerate():\n",
    "        \n",
    "        data_f = extract_interval(data,xf,sample_size,center,span)\n",
    "\n",
    "\n",
    "    n_epochs = 100\n",
    "    for epoch in range(n_epochs):\n",
    "        loss_list = []\n",
    "        acc_list = []\n",
    "        batches.reset()\n",
    "        batches.set_description('Training')\n",
    "        \n",
    "        for batch_idx, (data, target) in enumerate(train_dl):\n",
    "            data = data.float()\n",
    "            target = target.long()\n",
    "            out = classifier(data)\n",
    "            loss_val = loss(out, target)\n",
    "            loss_val.backward()\n",
    "            optimizer.step()\n",
    "            optimizer.zero_grad()\n",
    "            loss_list.append(loss_val.item())\n",
    "            batches.update()\n",
    "            \n",
    "        batches.reset(total=len(test_dl))\n",
    "        batches.set_description('Testing')\n",
    "        \n",
    "        with torch.no_grad():\n",
    "            for batch_idx, (data, target) in enumerate(test_dl):\n",
    "                data = data.float()\n",
    "                target = target.long()\n",
    "                out = classifier(data)\n",
    "                \n",
    "                acc = torch.mean((torch.argmax(out, dim=1) == target).to(torch.int16), dtype=torch.float)\n",
    "                acc_list.append(acc.item())\n",
    "                if epoch == (n_epochs-1):\n",
    "                    list_acc_last_epoch.append(acc.tolist())\n",
    "                batches.update()\n",
    "                \n",
    "        loss_coll.append(np.mean(loss_list))\n",
    "        acc_coll.append(np.mean(acc_list))\n",
    "        epochs.set_postfix_str(f\"Loss: {np.mean(loss_list):.3f}, Acc: {np.mean(acc_list):.3f}\")\n",
    "        epochs.update()\n",
    "\n",
    "    data_fft_coll = np.array(data_fft_coll)\n",
    "    \n",
    "    loss_coll,acc_coll, list_acc_last_epoch = classifier(data_fft_coll,labels,epochs=epochs)\n",
    "    \n",
    "    return acc_coll[-1], list_acc_last_epoch\n",
    "\n"
   ]
  },
  {
   "cell_type": "code",
   "execution_count": 3,
   "id": "26cd42a9-b03f-449c-8795-883fa3fefac9",
   "metadata": {},
   "outputs": [],
   "source": [
    "dataset_train = MNIST(root=\"data\", train=True, download=True)\n",
    "dataset_test = MNIST(root=\"data\", train=False, download=True)"
   ]
  },
  {
   "cell_type": "code",
   "execution_count": 4,
   "id": "f997510d-52cb-47bc-b929-ee31f12ef157",
   "metadata": {},
   "outputs": [
    {
     "name": "stdout",
     "output_type": "stream",
     "text": [
      "Classes: ['0 - zero', '1 - one', '2 - two', '3 - three', '4 - four', '5 - five', '6 - six', '7 - seven', '8 - eight', '9 - nine']\n",
      "N classes: 10\n",
      "N training samples: 60000\n",
      "N test samples: 10000\n",
      "Size samples: 784\n"
     ]
    }
   ],
   "source": [
    "print(f'Classes: {dataset_train.classes}')\n",
    "print(f'N classes: {len(dataset_train.classes)}')\n",
    "print(f'N training samples: {len(dataset_train)}')\n",
    "print(f'N test samples: {len(dataset_test)}')\n",
    "print(f'Size samples: {dataset_train.data.shape[1]*dataset_train.data.shape[2]}')\n",
    "\n",
    "n_classes = len(dataset_train.classes)\n",
    "n_pixels = dataset_train.data.shape[2]"
   ]
  },
  {
   "cell_type": "markdown",
   "id": "94de40f6-6041-4961-a020-af437cd2645b",
   "metadata": {},
   "source": [
    "#### Dataloader:"
   ]
  },
  {
   "cell_type": "code",
   "execution_count": 5,
   "id": "4f4e6512-80e3-413d-a522-daf0893e7301",
   "metadata": {},
   "outputs": [],
   "source": [
    "batch_size_train = 10\n",
    "batch_size_test = 10\n",
    "\n",
    "# Transformation: threshold pixel grayscale values \n",
    "threshold_grayscale = 160\n",
    "vmin, vmax = 0, 255\n",
    "\n",
    "# Train:\n",
    "train_loader = DataLoader(MNIST(root='data', train=True, download=True, \n",
    "                                transform=transforms.Compose([transforms.PILToTensor()])), \n",
    "                          batch_size=batch_size_train, \n",
    "                          shuffle=shuffle_data, \n",
    "                          generator=generator)\n",
    "\n",
    "# Test:\n",
    "test_loader = DataLoader(MNIST(root='data', train=False, download=True, \n",
    "                               transform=transforms.Compose([transforms.PILToTensor()])),\n",
    "                         batch_size=batch_size_test, \n",
    "                         shuffle=shuffle_data,\n",
    "                         generator=generator)"
   ]
  },
  {
   "cell_type": "code",
   "execution_count": 6,
   "id": "6bf7c7aa-baa9-401e-8dec-0668cc918135",
   "metadata": {},
   "outputs": [],
   "source": [
    "examples = enumerate(train_loader)\n",
    "batch_idx, (example_data, example_targets) = next(examples)"
   ]
  },
  {
   "cell_type": "code",
   "execution_count": 7,
   "id": "360a4109-b3c7-45af-a611-61492bc5c8f2",
   "metadata": {},
   "outputs": [
    {
     "data": {
      "text/plain": [
       "torch.Size([10, 1, 28, 28])"
      ]
     },
     "execution_count": 7,
     "metadata": {},
     "output_type": "execute_result"
    }
   ],
   "source": [
    "example_data.shape"
   ]
  },
  {
   "cell_type": "code",
   "execution_count": 8,
   "id": "56ae3647-36cb-4be8-aa5b-818123215200",
   "metadata": {},
   "outputs": [
    {
     "data": {
      "text/plain": [
       "tensor([[[  0,   0,   0,   0,   0,   0,   0,   0,   0,   0,   0,   0,   0,   0,\n",
       "            0,   0,   0,   0,   0,   0,   0,   0,   0,   0,   0,   0,   0,   0],\n",
       "         [  0,   0,   0,   0,   0,   0,   0,   0,   0,   0,   0,   0,   0,   0,\n",
       "            0,   0,   0,   0,   0,   0,   0,   0,   0,   0,   0,   0,   0,   0],\n",
       "         [  0,   0,   0,   0,   0,   0,   0,   0,   0,   0,   0,   0,   0,   0,\n",
       "            0,   0,   0,   0,   0,   0,   0,   0,   0,   0,   0,   0,   0,   0],\n",
       "         [  0,   0,   0,   0,   0,   0,   0,   0,   0,   0,   0,   0,   0,   0,\n",
       "            0,   0,   0,   0,   0,   0,   0,   0,   0,   0,   0,   0,   0,   0],\n",
       "         [  0,   0,   0,   0,   0,   0,   0,   0,   0,   0,   0,   0,   0,   0,\n",
       "            0,   0,   0,   0,   0,   0,   0,   0,   0,   0,   0,   0,   0,   0],\n",
       "         [  0,   0,   0,   0,   0,   0,   0,   0,   0,   0,   0,   0,   3,  18,\n",
       "           18,  18, 126, 136, 175,  26, 166, 255, 247, 127,   0,   0,   0,   0],\n",
       "         [  0,   0,   0,   0,   0,   0,   0,   0,  30,  36,  94, 154, 170, 253,\n",
       "          253, 253, 253, 253, 225, 172, 253, 242, 195,  64,   0,   0,   0,   0],\n",
       "         [  0,   0,   0,   0,   0,   0,   0,  49, 238, 253, 253, 253, 253, 253,\n",
       "          253, 253, 253, 251,  93,  82,  82,  56,  39,   0,   0,   0,   0,   0],\n",
       "         [  0,   0,   0,   0,   0,   0,   0,  18, 219, 253, 253, 253, 253, 253,\n",
       "          198, 182, 247, 241,   0,   0,   0,   0,   0,   0,   0,   0,   0,   0],\n",
       "         [  0,   0,   0,   0,   0,   0,   0,   0,  80, 156, 107, 253, 253, 205,\n",
       "           11,   0,  43, 154,   0,   0,   0,   0,   0,   0,   0,   0,   0,   0],\n",
       "         [  0,   0,   0,   0,   0,   0,   0,   0,   0,  14,   1, 154, 253,  90,\n",
       "            0,   0,   0,   0,   0,   0,   0,   0,   0,   0,   0,   0,   0,   0],\n",
       "         [  0,   0,   0,   0,   0,   0,   0,   0,   0,   0,   0, 139, 253, 190,\n",
       "            2,   0,   0,   0,   0,   0,   0,   0,   0,   0,   0,   0,   0,   0],\n",
       "         [  0,   0,   0,   0,   0,   0,   0,   0,   0,   0,   0,  11, 190, 253,\n",
       "           70,   0,   0,   0,   0,   0,   0,   0,   0,   0,   0,   0,   0,   0],\n",
       "         [  0,   0,   0,   0,   0,   0,   0,   0,   0,   0,   0,   0,  35, 241,\n",
       "          225, 160, 108,   1,   0,   0,   0,   0,   0,   0,   0,   0,   0,   0],\n",
       "         [  0,   0,   0,   0,   0,   0,   0,   0,   0,   0,   0,   0,   0,  81,\n",
       "          240, 253, 253, 119,  25,   0,   0,   0,   0,   0,   0,   0,   0,   0],\n",
       "         [  0,   0,   0,   0,   0,   0,   0,   0,   0,   0,   0,   0,   0,   0,\n",
       "           45, 186, 253, 253, 150,  27,   0,   0,   0,   0,   0,   0,   0,   0],\n",
       "         [  0,   0,   0,   0,   0,   0,   0,   0,   0,   0,   0,   0,   0,   0,\n",
       "            0,  16,  93, 252, 253, 187,   0,   0,   0,   0,   0,   0,   0,   0],\n",
       "         [  0,   0,   0,   0,   0,   0,   0,   0,   0,   0,   0,   0,   0,   0,\n",
       "            0,   0,   0, 249, 253, 249,  64,   0,   0,   0,   0,   0,   0,   0],\n",
       "         [  0,   0,   0,   0,   0,   0,   0,   0,   0,   0,   0,   0,   0,   0,\n",
       "           46, 130, 183, 253, 253, 207,   2,   0,   0,   0,   0,   0,   0,   0],\n",
       "         [  0,   0,   0,   0,   0,   0,   0,   0,   0,   0,   0,   0,  39, 148,\n",
       "          229, 253, 253, 253, 250, 182,   0,   0,   0,   0,   0,   0,   0,   0],\n",
       "         [  0,   0,   0,   0,   0,   0,   0,   0,   0,   0,  24, 114, 221, 253,\n",
       "          253, 253, 253, 201,  78,   0,   0,   0,   0,   0,   0,   0,   0,   0],\n",
       "         [  0,   0,   0,   0,   0,   0,   0,   0,  23,  66, 213, 253, 253, 253,\n",
       "          253, 198,  81,   2,   0,   0,   0,   0,   0,   0,   0,   0,   0,   0],\n",
       "         [  0,   0,   0,   0,   0,   0,  18, 171, 219, 253, 253, 253, 253, 195,\n",
       "           80,   9,   0,   0,   0,   0,   0,   0,   0,   0,   0,   0,   0,   0],\n",
       "         [  0,   0,   0,   0,  55, 172, 226, 253, 253, 253, 253, 244, 133,  11,\n",
       "            0,   0,   0,   0,   0,   0,   0,   0,   0,   0,   0,   0,   0,   0],\n",
       "         [  0,   0,   0,   0, 136, 253, 253, 253, 212, 135, 132,  16,   0,   0,\n",
       "            0,   0,   0,   0,   0,   0,   0,   0,   0,   0,   0,   0,   0,   0],\n",
       "         [  0,   0,   0,   0,   0,   0,   0,   0,   0,   0,   0,   0,   0,   0,\n",
       "            0,   0,   0,   0,   0,   0,   0,   0,   0,   0,   0,   0,   0,   0],\n",
       "         [  0,   0,   0,   0,   0,   0,   0,   0,   0,   0,   0,   0,   0,   0,\n",
       "            0,   0,   0,   0,   0,   0,   0,   0,   0,   0,   0,   0,   0,   0],\n",
       "         [  0,   0,   0,   0,   0,   0,   0,   0,   0,   0,   0,   0,   0,   0,\n",
       "            0,   0,   0,   0,   0,   0,   0,   0,   0,   0,   0,   0,   0,   0]]],\n",
       "       dtype=torch.uint8)"
      ]
     },
     "execution_count": 8,
     "metadata": {},
     "output_type": "execute_result"
    }
   ],
   "source": [
    "example_data[0,]"
   ]
  },
  {
   "cell_type": "markdown",
   "id": "2851d988-ef42-45bd-8e63-6a9524379277",
   "metadata": {},
   "source": [
    "## Visualize dataset:"
   ]
  },
  {
   "cell_type": "code",
   "execution_count": 9,
   "id": "9700fa0b-66bc-424c-8a13-224cf4ec4cc9",
   "metadata": {},
   "outputs": [
    {
     "data": {
      "image/png": "[encoded data removed]",
      "text/plain": [
       "<Figure size 432x288 with 7 Axes>"
      ]
     },
     "metadata": {
      "needs_background": "light"
     },
     "output_type": "display_data"
    }
   ],
   "source": [
    "fig = plt.figure()\n",
    "for i in range(6):\n",
    "    plt.subplot(2,3,i+1)\n",
    "    plt.tight_layout()\n",
    "    im = plt.imshow(example_data[i][0], interpolation='none', vmin=0, vmax=255)\n",
    "    plt.title(\"{}\".format(example_targets[i]))\n",
    "    plt.xticks([])\n",
    "    plt.yticks([])\n",
    "\n",
    "fig.subplots_adjust(right=0.8)\n",
    "cbar_ax = fig.add_axes([0.85, 0.3, 0.02, 0.4])\n",
    "fig.colorbar(im, cax=cbar_ax)\n",
    "fig.savefig(folder_fig.joinpath(f'MNIST_samples.pdf'), format='pdf', dpi=300)"
   ]
  },
  {
   "cell_type": "markdown",
   "id": "3d898ca4-9f86-4d2b-ad25-264043439a19",
   "metadata": {},
   "source": [
    "## Map to Current (No noise):"
   ]
  },
  {
   "cell_type": "code",
   "execution_count": 10,
   "id": "da3e9fae-0bb3-4913-a620-06c75827fa0f",
   "metadata": {},
   "outputs": [
    {
     "name": "stdout",
     "output_type": "stream",
     "text": [
      "Samples shape: torch.Size([300, 784])\n"
     ]
    },
    {
     "data": {
      "image/png": "[encoded data removed]",
      "text/plain": [
       "<Figure size 432x288 with 7 Axes>"
      ]
     },
     "metadata": {
      "needs_background": "light"
     },
     "output_type": "display_data"
    },
    {
     "data": {
      "image/png": "[encoded data removed]",
      "text/plain": [
       "<Figure size 432x288 with 6 Axes>"
      ]
     },
     "metadata": {
      "needs_background": "light"
     },
     "output_type": "display_data"
    }
   ],
   "source": [
    "add_noise = False\n",
    "\n",
    "# Transformation:\n",
    "stim_len_sec = 3\n",
    "dt_sec = 1e-2\n",
    "v_max = 0.2\n",
    "batch_size_train = 10\n",
    "batch_size_test = 10\n",
    "\n",
    "# Train:\n",
    "train_loader = DataLoader(MNIST(root='data', train=True, download=True, \n",
    "                                transform=transforms.Compose([transforms.PILToTensor(), \n",
    "                                                              ToCurrent(stim_len_sec, dt_sec, v_max, add_noise=add_noise)])), \n",
    "                          batch_size=batch_size_train, \n",
    "                          shuffle=shuffle_data, \n",
    "                          generator=generator)\n",
    "\n",
    "# Test:\n",
    "test_loader = DataLoader(MNIST(root='data', train=False, download=True, \n",
    "                               transform=transforms.Compose([transforms.PILToTensor(),\n",
    "                                                             ToCurrent(stim_len_sec, dt_sec, v_max, add_noise=add_noise)])),\n",
    "                         batch_size=batch_size_test, \n",
    "                         shuffle=shuffle_data, \n",
    "                         generator=generator)\n",
    "# Print samples size:\n",
    "examples = enumerate(train_loader)\n",
    "batch_idx, (example_data, example_targets) = next(examples)\n",
    "print('Samples shape:', example_data[0].shape)\n",
    "\n",
    "# Plot:\n",
    "fig = plt.figure()\n",
    "for i in range(6):\n",
    "    plt.subplot(2,3,i+1)\n",
    "    plt.tight_layout()\n",
    "    im=plt.imshow(torch.transpose(example_data[i], 1,0), interpolation='none', vmin=0, vmax=255+v_max)    \n",
    "    plt.title(\"{}\".format(example_targets[i]))\n",
    "    plt.xticks([])\n",
    "    plt.yticks([])\n",
    "    plt.xlabel('time bins')\n",
    "    plt.ylabel('px')\n",
    "\n",
    "fig.subplots_adjust(right=0.8)\n",
    "cbar_ax = fig.add_axes([0.85, 0.3, 0.02, 0.4])\n",
    "fig.colorbar(im, cax=cbar_ax)\n",
    "fig.savefig(folder_fig.joinpath(f'MNIST_samples_post_proc.pdf'), format='pdf', dpi=300)\n",
    "\n",
    "fig = plt.figure()\n",
    "for i in range(6):\n",
    "    plt.subplot(2,3,i+1)\n",
    "    plt.tight_layout()\n",
    "    xf, y = get_fft(example_data[i], dt_sec)\n",
    "    plt.plot(xf, y, c='k')\n",
    "    plt.title(\"{}\".format(example_targets[i]))\n",
    "    plt.xlabel('Frequency (Hz)')\n",
    "fig.savefig(folder_fig.joinpath(f'MNIST_samples_post_proc_spectrum.pdf'), format='pdf', dpi=300)"
   ]
  },
  {
   "cell_type": "markdown",
   "id": "539a567d-0408-4e05-ac99-c15659bace29",
   "metadata": {},
   "source": [
    "## Map to Current (Add uniform noise):"
   ]
  },
  {
   "cell_type": "code",
   "execution_count": 11,
   "id": "3ef3e17c-f97a-46bc-a66c-07c6370b24b7",
   "metadata": {},
   "outputs": [
    {
     "name": "stdout",
     "output_type": "stream",
     "text": [
      "Samples shape: torch.Size([300, 784])\n"
     ]
    },
    {
     "data": {
      "image/png": "[encoded data removed]",
      "text/plain": [
       "<Figure size 432x288 with 7 Axes>"
      ]
     },
     "metadata": {
      "needs_background": "light"
     },
     "output_type": "display_data"
    },
    {
     "data": {
      "image/png": "[encoded data removed]",
      "text/plain": [
       "<Figure size 432x288 with 6 Axes>"
      ]
     },
     "metadata": {
      "needs_background": "light"
     },
     "output_type": "display_data"
    }
   ],
   "source": [
    "add_noise = True\n",
    "\n",
    "# Transformation:\n",
    "stim_len_sec = 3\n",
    "dt_sec = 1e-2\n",
    "v_max = 0.2\n",
    "batch_size_train = 10\n",
    "batch_size_test = 10\n",
    "\n",
    "# Train:\n",
    "train_loader = DataLoader(MNIST(root='data', train=True, download=True, \n",
    "                                transform=transforms.Compose([transforms.PILToTensor(), \n",
    "                                                              ToCurrent(stim_len_sec, dt_sec, v_max, add_noise=add_noise)])), \n",
    "                          batch_size=batch_size_train, \n",
    "                          shuffle=shuffle_data, \n",
    "                          generator=generator)\n",
    "\n",
    "# Test:\n",
    "test_loader = DataLoader(MNIST(root='data', train=False, download=True, \n",
    "                               transform=transforms.Compose([transforms.PILToTensor(),\n",
    "                                                             ToCurrent(stim_len_sec, dt_sec, v_max, add_noise=add_noise)])),\n",
    "                         batch_size=batch_size_test, \n",
    "                         shuffle=shuffle_data, \n",
    "                         generator=generator)\n",
    "# Print samples size:\n",
    "examples = enumerate(train_loader)\n",
    "batch_idx, (example_data, example_targets) = next(examples)\n",
    "print('Samples shape:', example_data[0].shape)\n",
    "\n",
    "# Plot:\n",
    "fig = plt.figure()\n",
    "for i in range(6):\n",
    "    plt.subplot(2,3,i+1)\n",
    "    plt.tight_layout()\n",
    "    im=plt.imshow(torch.transpose(example_data[i], 1,0), interpolation='none', vmin=0, vmax=255+v_max)    \n",
    "    plt.title(\"{}\".format(example_targets[i]))\n",
    "    plt.xticks([])\n",
    "    plt.yticks([])\n",
    "    plt.xlabel('time bins')\n",
    "    plt.ylabel('px')\n",
    "\n",
    "fig.subplots_adjust(right=0.8)\n",
    "cbar_ax = fig.add_axes([0.85, 0.3, 0.02, 0.4])\n",
    "fig.colorbar(im, cax=cbar_ax)\n",
    "fig.savefig(folder_fig.joinpath(f'MNIST_samples_post_proc_with_noise.pdf'), format='pdf', dpi=300)\n",
    "\n",
    "fig = plt.figure()\n",
    "for i in range(6):\n",
    "    plt.subplot(2,3,i+1)\n",
    "    plt.tight_layout()\n",
    "    xf, y = get_fft(example_data[i], dt_sec)\n",
    "    plt.plot(xf, y, c='k')\n",
    "    plt.title(\"{}\".format(example_targets[i]))\n",
    "    plt.xlabel('Frequency (Hz)')\n",
    "fig.savefig(folder_fig.joinpath(f'MNIST_samples_post_proc_spectrum_with_noise.pdf'), format='pdf', dpi=300)"
   ]
  },
  {
   "cell_type": "markdown",
   "id": "3453d185-1395-4eb7-86c0-21f59a8fa665",
   "metadata": {},
   "source": [
    "## Load dataset:"
   ]
  },
  {
   "cell_type": "code",
   "execution_count": 12,
   "id": "1a60639a-6a81-432c-aec9-95813984886f",
   "metadata": {},
   "outputs": [
    {
     "name": "stdout",
     "output_type": "stream",
     "text": [
      "N samples training: 60000\n",
      "N samples test: 10000\n"
     ]
    }
   ],
   "source": [
    "stim_len_sec = 3\n",
    "dt_sec = 1e-2\n",
    "batch_size = 100\n",
    "train_dl, test_dl = load_MNIST(batch_size=batch_size, stim_len_sec=stim_len_sec, dt_sec=dt_sec, v_max=v_max, add_noise=True, return_fft=True)"
   ]
  },
  {
   "cell_type": "code",
   "execution_count": 13,
   "id": "c8dae347-f6b3-4cc2-89da-64654ea6e178",
   "metadata": {},
   "outputs": [],
   "source": [
    "# Check sample sizes:\n",
    "examples = enumerate(train_dl)\n",
    "batch_idx, (example_data, example_targets) = next(examples)\n",
    "shape = example_data.shape\n",
    "\n",
    "assert(shape[0]==batch_size)\n",
    "n_time_steps = int(stim_len_sec/dt_sec)\n",
    "assert(shape[1]==len(rfftfreq(n_time_steps, dt_sec)))\n",
    "assert(shape[2]==n_pixels**2)\n",
    "# shape[0]: batch_size\n",
    "# shape[1]: freq\n",
    "# shape[2]: px"
   ]
  },
  {
   "cell_type": "code",
   "execution_count": 15,
   "id": "9dfc4690-3bf4-482d-98a8-d9bd54707dce",
   "metadata": {},
   "outputs": [],
   "source": [
    "from utils_dataset import extract_interval"
   ]
  },
  {
   "cell_type": "code",
   "execution_count": 23,
   "id": "7b958689-83c6-4e9f-89a4-db23b0380533",
   "metadata": {},
   "outputs": [
    {
     "name": "stdout",
     "output_type": "stream",
     "text": [
      "Samples shape: torch.Size([100, 151, 784])\n"
     ]
    },
    {
     "name": "stderr",
     "output_type": "stream",
     "text": [
      "\n",
      "Classifier:   0%|                                                                                                                                                                                                                                                 | 0/100 [00:00<?, ?it/s]\u001b[A\n",
      "                                                                                                                                                                                                                                                                                          \u001b[A\n",
      "Classifier:   0%|                                                                                                                                                                                                                                                 | 0/100 [00:00<?, ?it/s]\u001b[A"
     ]
    }
   ],
   "source": [
    "center = 10\n",
    "span = 10\n",
    "sample_size = 10\n",
    "\n",
    "\n",
    "# Extract parameters:\n",
    "examples = enumerate(train_dl)\n",
    "batch_idx, (example_data, example_targets) = next(examples)\n",
    "print('Samples shape:', example_data.shape)\n",
    "\n",
    "n_ch = example_data.shape[-1]\n",
    "xf = rfftfreq(n_time_steps, dt_sec)\n",
    "\n",
    "classifier = nn.Sequential(nn.Linear(n_ch, len(np.unique(train_dl.dataset.targets))),).to(device)\n",
    "optimizer = torch.optim.Adam(classifier.parameters(), lr=0.001)\n",
    "epochs = tqdm.trange(100, desc=f\"Classifier\",leave=False,position=1)\n",
    "\n",
    "if epochs is None:\n",
    "    epochs = trange(epochs, desc=f\"Classifier\")\n",
    "else:\n",
    "    epochs.reset()\n",
    "    \n",
    "batches = tqdm.tqdm(train_dl, desc=\"Epoch\", disable=True)\n",
    "loss = nn.CrossEntropyLoss()\n",
    "loss_coll = []\n",
    "acc_coll = []\n",
    "\n",
    "for batch_idx, (data, targets) in enumerate(train_dl):\n",
    "\n",
    "    data_f = extract_interval(data, xf, sample_size, center, span)\n",
    "        \n",
    "    break"
   ]
  },
  {
   "cell_type": "code",
   "execution_count": 26,
   "id": "ba7e1b2d-9468-44e6-ad8f-dae90d6aff4f",
   "metadata": {},
   "outputs": [
    {
     "data": {
      "text/plain": [
       "torch.Size([100, 10])"
      ]
     },
     "execution_count": 26,
     "metadata": {},
     "output_type": "execute_result"
    }
   ],
   "source": [
    "data_f.shape"
   ]
  },
  {
   "cell_type": "code",
   "execution_count": 27,
   "id": "6fb805b9-a7bf-4556-a4be-44abbe5e4918",
   "metadata": {},
   "outputs": [
    {
     "data": {
      "text/plain": [
       "torch.Size([100, 10])"
      ]
     },
     "execution_count": 27,
     "metadata": {},
     "output_type": "execute_result"
    }
   ],
   "source": [
    "data_f.shape"
   ]
  },
  {
   "cell_type": "code",
   "execution_count": 38,
   "id": "2247f711-8548-4187-88e1-7477a77a9d31",
   "metadata": {},
   "outputs": [
    {
     "ename": "IndexError",
     "evalue": "too many indices for tensor of dimension 2",
     "output_type": "error",
     "traceback": [
      "\u001b[0;31m---------------------------------------------------------------------------\u001b[0m",
      "\u001b[0;31mIndexError\u001b[0m                                Traceback (most recent call last)",
      "Input \u001b[0;32mIn [38]\u001b[0m, in \u001b[0;36m<cell line: 1>\u001b[0;34m()\u001b[0m\n\u001b[0;32m----> 1\u001b[0m \u001b[43mdata_f\u001b[49m\u001b[43m[\u001b[49m\u001b[43m:\u001b[49m\u001b[43m,\u001b[49m\u001b[43mf\u001b[49m\u001b[43m,\u001b[49m\u001b[43m:\u001b[49m\u001b[43m]\u001b[49m\u001b[38;5;241m.\u001b[39mshape\n",
      "\u001b[0;31mIndexError\u001b[0m: too many indices for tensor of dimension 2"
     ]
    }
   ],
   "source": [
    "data_f[:,f,:].shape"
   ]
  },
  {
   "cell_type": "markdown",
   "id": "8038398c-b93c-4b9d-a31d-16ea078011b6",
   "metadata": {},
   "source": [
    "## Preprocessing"
   ]
  },
  {
   "cell_type": "code",
   "execution_count": 34,
   "id": "1641bf71-212e-47c7-b769-8406af2278e8",
   "metadata": {},
   "outputs": [
    {
     "name": "stderr",
     "output_type": "stream",
     "text": [
      "Frequency Sweeping:   0%|                                                                                                    | 0/100 [00:07<?, ?it/s]\n",
      "\n",
      "Classifier:   0%|                                                                                                            | 0/100 [00:00<?, ?it/s]\u001b[A\n",
      "                                                                                                                                                     \u001b[A"
     ]
    },
    {
     "ename": "NameError",
     "evalue": "name 'labels' is not defined",
     "output_type": "error",
     "traceback": [
      "\u001b[0;31m---------------------------------------------------------------------------\u001b[0m",
      "\u001b[0;31mNameError\u001b[0m                                 Traceback (most recent call last)",
      "Input \u001b[0;32mIn [34]\u001b[0m, in \u001b[0;36m<cell line: 12>\u001b[0;34m()\u001b[0m\n\u001b[1;32m     12\u001b[0m \u001b[38;5;28;01mfor\u001b[39;00m c_idx,center \u001b[38;5;129;01min\u001b[39;00m \u001b[38;5;28menumerate\u001b[39m(centers):\n\u001b[1;32m     13\u001b[0m     \u001b[38;5;28;01mfor\u001b[39;00m s_idx,span \u001b[38;5;129;01min\u001b[39;00m \u001b[38;5;28menumerate\u001b[39m(spans):\n\u001b[0;32m---> 14\u001b[0m         acc, list_acc_last_epoch \u001b[38;5;241m=\u001b[39m classify_fft(center,span,\u001b[43mlabels\u001b[49m,epochs,sample_size\u001b[38;5;241m=\u001b[39msample_size)\n\u001b[1;32m     15\u001b[0m         matrix[\u001b[38;5;241m0\u001b[39m][c_idx,s_idx] \u001b[38;5;241m=\u001b[39m acc\n\u001b[1;32m     17\u001b[0m         df_acc[\u001b[38;5;124m'\u001b[39m\u001b[38;5;124mcenter\u001b[39m\u001b[38;5;124m'\u001b[39m]\u001b[38;5;241m.\u001b[39mextend([center]\u001b[38;5;241m*\u001b[39m\u001b[38;5;28mlen\u001b[39m(list_acc_last_epoch))\n",
      "\u001b[0;31mNameError\u001b[0m: name 'labels' is not defined"
     ]
    }
   ],
   "source": [
    "centers = np.linspace(10, 20, 10)\n",
    "spans=np.linspace(10, 20, 10)\n",
    "name='frequency'\n",
    "sample_size = 10\n",
    "\n",
    "matrix = {}\n",
    "\n",
    "df_acc = {'center': [], 'span': [], 'acc': []}\n",
    "matrix[0] = np.zeros((len(centers),len(spans)))\n",
    "sweep = tqdm.tqdm(total=len(centers)*len(spans), desc=f\"{name[0].upper() + name[1:]} Sweeping\",position=0,leave=True)\n",
    "epochs = tqdm.trange(100, desc=f\"Classifier\",leave=False,position=1)\n",
    "for c_idx,center in enumerate(centers):\n",
    "    for s_idx,span in enumerate(spans):\n",
    "        acc, list_acc_last_epoch = classify_fft(center, span, train_dl, test_dl, epochs,sample_size=sample_size)\n",
    "        matrix[0][c_idx,s_idx] = acc\n",
    "        \n",
    "        df_acc['center'].extend([center]*len(list_acc_last_epoch))\n",
    "        df_acc['span'].extend([span]*len(list_acc_last_epoch))\n",
    "        df_acc['acc'].extend(list_acc_last_epoch)\n",
    "        \n",
    "        sweep.update()"
   ]
  },
  {
   "cell_type": "code",
   "execution_count": 36,
   "id": "78d890d5-7f7d-401b-8201-9958161c041a",
   "metadata": {},
   "outputs": [
    {
     "name": "stdout",
     "output_type": "stream",
     "text": [
      "Samples shape: torch.Size([100, 151, 784])\n"
     ]
    },
    {
     "ename": "NameError",
     "evalue": "name 'n_time_steps' is not defined",
     "output_type": "error",
     "traceback": [
      "\u001b[0;31m---------------------------------------------------------------------------\u001b[0m",
      "\u001b[0;31mNameError\u001b[0m                                 Traceback (most recent call last)",
      "Input \u001b[0;32mIn [36]\u001b[0m, in \u001b[0;36m<cell line: 9>\u001b[0;34m()\u001b[0m\n\u001b[1;32m      6\u001b[0m \u001b[38;5;28mprint\u001b[39m(\u001b[38;5;124m'\u001b[39m\u001b[38;5;124mSamples shape:\u001b[39m\u001b[38;5;124m'\u001b[39m, example_data\u001b[38;5;241m.\u001b[39mshape)\n\u001b[1;32m      8\u001b[0m n_ch \u001b[38;5;241m=\u001b[39m example_data\u001b[38;5;241m.\u001b[39mshape[\u001b[38;5;241m-\u001b[39m\u001b[38;5;241m1\u001b[39m]\n\u001b[0;32m----> 9\u001b[0m xf \u001b[38;5;241m=\u001b[39m rfftfreq(\u001b[43mn_time_steps\u001b[49m, dt)\n",
      "\u001b[0;31mNameError\u001b[0m: name 'n_time_steps' is not defined"
     ]
    }
   ],
   "source": [
    "center = 10\n",
    "span = 10\n",
    "\n",
    "examples = enumerate(train_dl)\n",
    "batch_idx, (example_data, example_targets) = next(examples)\n",
    "print('Samples shape:', example_data.shape)\n",
    "\n",
    "n_ch = example_data.shape[-1]\n",
    "xf = rfftfreq(n_time_steps, dt)\n",
    "\n",
    "# classifier = nn.Sequential(nn.Linear(n_ch, len(np.unique(train_dl.dataset.targets))),).to(device)\n",
    "# optimizer = torch.optim.Adam(classifier.parameters(), lr=0.001)\n",
    "# if epochs is None:\n",
    "#     epochs = trange(100, desc=f\"Classifier\")\n",
    "# else:\n",
    "#     epochs.reset()\n",
    "# batches = tqdm.tqdm(train_dl, desc=\"Epoch\", disable=True)\n",
    "# loss = nn.CrossEntropyLoss()\n",
    "# loss_coll = []\n",
    "# acc_coll = []\n",
    "\n",
    "# for batch_idx, (data, targets) in enumerate():\n",
    "\n",
    "#     data_f = extract_interval(data,xf,sample_size,center,span)"
   ]
  },
  {
   "cell_type": "code",
   "execution_count": 14,
   "id": "827ec324-441b-419c-996f-4fbf30a0734e",
   "metadata": {},
   "outputs": [],
   "source": [
    "import pandas as pd\n",
    "\n",
    "df_acc = pd.DataFrame(df_acc)"
   ]
  },
  {
   "cell_type": "code",
   "execution_count": 15,
   "id": "315765bb-4b11-4155-a436-e12a069b2ba6",
   "metadata": {},
   "outputs": [
    {
     "data": {
      "text/html": [
       "<div>\n",
       "<style scoped>\n",
       "    .dataframe tbody tr th:only-of-type {\n",
       "        vertical-align: middle;\n",
       "    }\n",
       "\n",
       "    .dataframe tbody tr th {\n",
       "        vertical-align: top;\n",
       "    }\n",
       "\n",
       "    .dataframe thead th {\n",
       "        text-align: right;\n",
       "    }\n",
       "</style>\n",
       "<table border=\"1\" class=\"dataframe\">\n",
       "  <thead>\n",
       "    <tr style=\"text-align: right;\">\n",
       "      <th></th>\n",
       "      <th>center</th>\n",
       "      <th>span</th>\n",
       "      <th>acc</th>\n",
       "    </tr>\n",
       "  </thead>\n",
       "  <tbody>\n",
       "    <tr>\n",
       "      <th>0</th>\n",
       "      <td>10.0</td>\n",
       "      <td>10.000000</td>\n",
       "      <td>0.10</td>\n",
       "    </tr>\n",
       "    <tr>\n",
       "      <th>1</th>\n",
       "      <td>10.0</td>\n",
       "      <td>10.000000</td>\n",
       "      <td>0.18</td>\n",
       "    </tr>\n",
       "    <tr>\n",
       "      <th>2</th>\n",
       "      <td>10.0</td>\n",
       "      <td>10.000000</td>\n",
       "      <td>0.12</td>\n",
       "    </tr>\n",
       "    <tr>\n",
       "      <th>3</th>\n",
       "      <td>10.0</td>\n",
       "      <td>10.000000</td>\n",
       "      <td>0.05</td>\n",
       "    </tr>\n",
       "    <tr>\n",
       "      <th>4</th>\n",
       "      <td>10.0</td>\n",
       "      <td>11.111111</td>\n",
       "      <td>0.11</td>\n",
       "    </tr>\n",
       "    <tr>\n",
       "      <th>...</th>\n",
       "      <td>...</td>\n",
       "      <td>...</td>\n",
       "      <td>...</td>\n",
       "    </tr>\n",
       "    <tr>\n",
       "      <th>395</th>\n",
       "      <td>20.0</td>\n",
       "      <td>18.888889</td>\n",
       "      <td>0.09</td>\n",
       "    </tr>\n",
       "    <tr>\n",
       "      <th>396</th>\n",
       "      <td>20.0</td>\n",
       "      <td>20.000000</td>\n",
       "      <td>0.09</td>\n",
       "    </tr>\n",
       "    <tr>\n",
       "      <th>397</th>\n",
       "      <td>20.0</td>\n",
       "      <td>20.000000</td>\n",
       "      <td>0.14</td>\n",
       "    </tr>\n",
       "    <tr>\n",
       "      <th>398</th>\n",
       "      <td>20.0</td>\n",
       "      <td>20.000000</td>\n",
       "      <td>0.11</td>\n",
       "    </tr>\n",
       "    <tr>\n",
       "      <th>399</th>\n",
       "      <td>20.0</td>\n",
       "      <td>20.000000</td>\n",
       "      <td>0.11</td>\n",
       "    </tr>\n",
       "  </tbody>\n",
       "</table>\n",
       "<p>400 rows × 3 columns</p>\n",
       "</div>"
      ],
      "text/plain": [
       "     center       span   acc\n",
       "0      10.0  10.000000  0.10\n",
       "1      10.0  10.000000  0.18\n",
       "2      10.0  10.000000  0.12\n",
       "3      10.0  10.000000  0.05\n",
       "4      10.0  11.111111  0.11\n",
       "..      ...        ...   ...\n",
       "395    20.0  18.888889  0.09\n",
       "396    20.0  20.000000  0.09\n",
       "397    20.0  20.000000  0.14\n",
       "398    20.0  20.000000  0.11\n",
       "399    20.0  20.000000  0.11\n",
       "\n",
       "[400 rows x 3 columns]"
      ]
     },
     "execution_count": 15,
     "metadata": {},
     "output_type": "execute_result"
    }
   ],
   "source": [
    "df_acc"
   ]
  },
  {
   "cell_type": "code",
   "execution_count": 16,
   "id": "0908c7d8-378e-4e60-8e20-fd87dad7fbf1",
   "metadata": {},
   "outputs": [
    {
     "data": {
      "text/plain": [
       "<AxesSubplot:xlabel='center', ylabel='acc'>"
      ]
     },
     "execution_count": 16,
     "metadata": {},
     "output_type": "execute_result"
    },
    {
     "data": {
      "image/png": "[encoded data removed]",
      "text/plain": [
       "<Figure size 1008x576 with 1 Axes>"
      ]
     },
     "metadata": {
      "needs_background": "light"
     },
     "output_type": "display_data"
    }
   ],
   "source": [
    "plt.figure(figsize=(14,8))\n",
    "sns.regplot(x=df_acc[\"center\"], y=df_acc[\"acc\"])"
   ]
  },
  {
   "cell_type": "code",
   "execution_count": 18,
   "id": "6ff9e6a4-1ae6-470e-9623-2fecbecd29b6",
   "metadata": {},
   "outputs": [
    {
     "data": {
      "text/html": [
       "<div>\n",
       "<style scoped>\n",
       "    .dataframe tbody tr th:only-of-type {\n",
       "        vertical-align: middle;\n",
       "    }\n",
       "\n",
       "    .dataframe tbody tr th {\n",
       "        vertical-align: top;\n",
       "    }\n",
       "\n",
       "    .dataframe thead th {\n",
       "        text-align: right;\n",
       "    }\n",
       "</style>\n",
       "<table border=\"1\" class=\"dataframe\">\n",
       "  <thead>\n",
       "    <tr style=\"text-align: right;\">\n",
       "      <th></th>\n",
       "      <th>center</th>\n",
       "      <th>span</th>\n",
       "      <th>acc</th>\n",
       "    </tr>\n",
       "  </thead>\n",
       "  <tbody>\n",
       "    <tr>\n",
       "      <th>center</th>\n",
       "      <td>1.000000e+00</td>\n",
       "      <td>-7.516896e-16</td>\n",
       "      <td>-0.056711</td>\n",
       "    </tr>\n",
       "    <tr>\n",
       "      <th>span</th>\n",
       "      <td>-7.516896e-16</td>\n",
       "      <td>1.000000e+00</td>\n",
       "      <td>0.040387</td>\n",
       "    </tr>\n",
       "    <tr>\n",
       "      <th>acc</th>\n",
       "      <td>-5.671115e-02</td>\n",
       "      <td>4.038734e-02</td>\n",
       "      <td>1.000000</td>\n",
       "    </tr>\n",
       "  </tbody>\n",
       "</table>\n",
       "</div>"
      ],
      "text/plain": [
       "              center          span       acc\n",
       "center  1.000000e+00 -7.516896e-16 -0.056711\n",
       "span   -7.516896e-16  1.000000e+00  0.040387\n",
       "acc    -5.671115e-02  4.038734e-02  1.000000"
      ]
     },
     "execution_count": 18,
     "metadata": {},
     "output_type": "execute_result"
    }
   ],
   "source": [
    "df_acc.corr(method ='pearson')"
   ]
  },
  {
   "cell_type": "code",
   "execution_count": 42,
   "id": "b359d776-46bf-4759-8fde-40f1ee3eced8",
   "metadata": {},
   "outputs": [
    {
     "name": "stderr",
     "output_type": "stream",
     "text": [
      "/tmp/ipykernel_111938/1818450471.py:16: UserWarning: This figure includes Axes that are not compatible with tight_layout, so results might be incorrect.\n",
      "  fig.tight_layout(rect=[0, 0, .9, 1])\n"
     ]
    },
    {
     "data": {
      "image/png": "[encoded data removed]",
      "text/plain": [
       "<Figure size 432x288 with 4 Axes>"
      ]
     },
     "metadata": {
      "needs_background": "light"
     },
     "output_type": "display_data"
    }
   ],
   "source": [
    "import seaborn as sns\n",
    "\n",
    "fig, axs = plt.subplots(1,len(matrix.keys()), sharex=True, sharey=True)\n",
    "cbar_ax = fig.add_axes([.91, .3, .03, .4])\n",
    "\n",
    "for i in matrix.keys():\n",
    "    sns.heatmap(matrix[i], annot=True, ax=axs[i], \n",
    "                linewidth=.5,\n",
    "                cbar=i == 0,\n",
    "                vmin=0, vmax=0.15,\n",
    "                square=True,\n",
    "                cbar_ax=None if i else cbar_ax)\n",
    "    axs[i].set_xlabel('Spans')\n",
    "axs[0].set_ylabel('Centers')\n",
    "fig.tight_layout(rect=[0, 0, .9, 1])"
   ]
  },
  {
   "cell_type": "code",
   "execution_count": null,
   "id": "1a5ed6c3-fdd5-47bb-91c2-ab7275408f1a",
   "metadata": {},
   "outputs": [],
   "source": [
    "# Cehck if "
   ]
  },
  {
   "cell_type": "code",
   "execution_count": 43,
   "id": "b336a0bd-7a90-4757-8a0d-70eb41c4ea78",
   "metadata": {},
   "outputs": [],
   "source": [
    "# Load data input to classifier:"
   ]
  },
  {
   "cell_type": "code",
   "execution_count": 45,
   "id": "6bc1b75f-0b75-4d3a-b35a-fcd2915f4446",
   "metadata": {},
   "outputs": [],
   "source": [
    "data = np.load('./data/dataset_analysis/data_fft_10.0_10.0.npy')"
   ]
  },
  {
   "cell_type": "code",
   "execution_count": 46,
   "id": "917df34e-e8e4-47dc-b4ff-ca9a5ed31e6a",
   "metadata": {},
   "outputs": [
    {
     "data": {
      "text/plain": [
       "(2000, 10)"
      ]
     },
     "execution_count": 46,
     "metadata": {},
     "output_type": "execute_result"
    }
   ],
   "source": [
    "data.shape"
   ]
  },
  {
   "cell_type": "code",
   "execution_count": 49,
   "id": "35a423bf-04fd-4ade-9d7d-70dee1e5776d",
   "metadata": {},
   "outputs": [
    {
     "data": {
      "text/plain": [
       "<matplotlib.image.AxesImage at 0x7f60ccff6220>"
      ]
     },
     "execution_count": 49,
     "metadata": {},
     "output_type": "execute_result"
    },
    {
     "data": {
      "image/png": "[encoded data removed]",
      "text/plain": [
       "<Figure size 432x288 with 1 Axes>"
      ]
     },
     "metadata": {
      "needs_background": "light"
     },
     "output_type": "display_data"
    }
   ],
   "source": [
    "plt.imshow(data, aspect='auto')"
   ]
  },
  {
   "cell_type": "code",
   "execution_count": 50,
   "id": "cf840964-2fb7-4bf2-be9e-49018d980136",
   "metadata": {},
   "outputs": [],
   "source": [
    "data = np.load('./data/dataset_analysis/data_fft_10.0_15.0.npy')"
   ]
  },
  {
   "cell_type": "code",
   "execution_count": 51,
   "id": "006ca100-0628-4331-ba9a-61006baa3817",
   "metadata": {},
   "outputs": [
    {
     "data": {
      "text/plain": [
       "<matplotlib.image.AxesImage at 0x7f60cce648b0>"
      ]
     },
     "execution_count": 51,
     "metadata": {},
     "output_type": "execute_result"
    },
    {
     "data": {
      "image/png": "[encoded data removed]",
      "text/plain": [
       "<Figure size 432x288 with 1 Axes>"
      ]
     },
     "metadata": {
      "needs_background": "light"
     },
     "output_type": "display_data"
    }
   ],
   "source": [
    "plt.imshow(data, aspect='auto')"
   ]
  },
  {
   "cell_type": "code",
   "execution_count": 54,
   "id": "1a162ecf-0425-4b55-b6d1-e4cf4119424c",
   "metadata": {},
   "outputs": [],
   "source": [
    "data = np.load('./data/dataset_analysis/data_fft_20.0_10.0.npy')"
   ]
  },
  {
   "cell_type": "code",
   "execution_count": 55,
   "id": "96944e1c-3a85-462b-ad00-dc92109a5871",
   "metadata": {},
   "outputs": [
    {
     "data": {
      "text/plain": [
       "<matplotlib.image.AxesImage at 0x7f60cc954850>"
      ]
     },
     "execution_count": 55,
     "metadata": {},
     "output_type": "execute_result"
    },
    {
     "data": {
      "image/png": "[encoded data removed]",
      "text/plain": [
       "<Figure size 432x288 with 1 Axes>"
      ]
     },
     "metadata": {
      "needs_background": "light"
     },
     "output_type": "display_data"
    }
   ],
   "source": [
    "plt.imshow(data, aspect='auto')"
   ]
  },
  {
   "cell_type": "code",
   "execution_count": null,
   "id": "0917d24d-fc9e-44ed-ab10-7e15bde53c54",
   "metadata": {},
   "outputs": [],
   "source": []
  }
 ],
 "metadata": {
  "kernelspec": {
   "display_name": "Python 3 (ipykernel)",
   "language": "python",
   "name": "python3"
  },
  "language_info": {
   "codemirror_mode": {
    "name": "ipython",
    "version": 3
   },
   "file_extension": ".py",
   "mimetype": "text/x-python",
   "name": "python",
   "nbconvert_exporter": "python",
   "pygments_lexer": "ipython3",
   "version": "3.9.12"
  }
 },
 "nbformat": 4,
 "nbformat_minor": 5
}
