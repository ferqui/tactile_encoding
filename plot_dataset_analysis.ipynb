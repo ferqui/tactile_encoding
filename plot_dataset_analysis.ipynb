{
 "cells": [
  {
   "cell_type": "code",
   "execution_count": 1,
   "id": "initial_id",
   "metadata": {
    "collapsed": true,
    "ExecuteTime": {
     "end_time": "2024-02-01T09:10:00.374374570Z",
     "start_time": "2024-02-01T09:10:00.372708860Z"
    }
   },
   "outputs": [],
   "source": [
    "import pandas as pd\n",
    "import numpy as np\n",
    "import matplotlib.pyplot as plt\n",
    "import seaborn as sns\n",
    "import os\n",
    "import glob"
   ]
  },
  {
   "cell_type": "code",
   "outputs": [
    {
     "name": "stdout",
     "output_type": "stream",
     "text": [
      "['dataset_analysis_newslopes_3Gen/Braille/data/Braille_plot_dict.pkl', 'dataset_analysis_newslopes_3Gen/MNIST/data/MNIST_plot_dict.pkl', 'dataset_analysis_newslopes_3Gen/MNIST_compressed/data/MNIST_compressed_plot_dict.pkl']\n"
     ]
    }
   ],
   "source": [
    "folder = 'dataset_analysis_newslopes_3Gen'\n",
    "dfs = glob.glob(os.path.join(folder, '**/*.pkl'), recursive=True)\n"
   ],
   "metadata": {
    "collapsed": false,
    "ExecuteTime": {
     "end_time": "2024-02-01T09:12:50.946632990Z",
     "start_time": "2024-02-01T09:12:50.939915117Z"
    }
   },
   "id": "50615f0f99533897",
   "execution_count": 7
  },
  {
   "cell_type": "code",
   "outputs": [
    {
     "data": {
      "text/plain": "    center  span  accuracy  data_type           dataset  sim_id\n0      0.5   0.5  0.046274  amplitude           Braille       0\n1      0.5   0.5  0.039183  amplitude           Braille       0\n2      0.5   0.5  0.044591  amplitude           Braille       0\n3      0.5   0.5  0.039062  amplitude           Braille       0\n4      0.5   0.5  0.043990  amplitude           Braille       0\n..     ...   ...       ...        ...               ...     ...\n95     5.0   1.0  0.123750      slope  MNIST_compressed     299\n96     5.0   1.0  0.123750      slope  MNIST_compressed     299\n97     5.0   1.0  0.123750      slope  MNIST_compressed     299\n98     5.0   1.0  0.123750      slope  MNIST_compressed     299\n99     5.0   1.0  0.123750      slope  MNIST_compressed     299\n\n[90300 rows x 6 columns]",
      "text/html": "<div>\n<style scoped>\n    .dataframe tbody tr th:only-of-type {\n        vertical-align: middle;\n    }\n\n    .dataframe tbody tr th {\n        vertical-align: top;\n    }\n\n    .dataframe thead th {\n        text-align: right;\n    }\n</style>\n<table border=\"1\" class=\"dataframe\">\n  <thead>\n    <tr style=\"text-align: right;\">\n      <th></th>\n      <th>center</th>\n      <th>span</th>\n      <th>accuracy</th>\n      <th>data_type</th>\n      <th>dataset</th>\n      <th>sim_id</th>\n    </tr>\n  </thead>\n  <tbody>\n    <tr>\n      <th>0</th>\n      <td>0.5</td>\n      <td>0.5</td>\n      <td>0.046274</td>\n      <td>amplitude</td>\n      <td>Braille</td>\n      <td>0</td>\n    </tr>\n    <tr>\n      <th>1</th>\n      <td>0.5</td>\n      <td>0.5</td>\n      <td>0.039183</td>\n      <td>amplitude</td>\n      <td>Braille</td>\n      <td>0</td>\n    </tr>\n    <tr>\n      <th>2</th>\n      <td>0.5</td>\n      <td>0.5</td>\n      <td>0.044591</td>\n      <td>amplitude</td>\n      <td>Braille</td>\n      <td>0</td>\n    </tr>\n    <tr>\n      <th>3</th>\n      <td>0.5</td>\n      <td>0.5</td>\n      <td>0.039062</td>\n      <td>amplitude</td>\n      <td>Braille</td>\n      <td>0</td>\n    </tr>\n    <tr>\n      <th>4</th>\n      <td>0.5</td>\n      <td>0.5</td>\n      <td>0.043990</td>\n      <td>amplitude</td>\n      <td>Braille</td>\n      <td>0</td>\n    </tr>\n    <tr>\n      <th>...</th>\n      <td>...</td>\n      <td>...</td>\n      <td>...</td>\n      <td>...</td>\n      <td>...</td>\n      <td>...</td>\n    </tr>\n    <tr>\n      <th>95</th>\n      <td>5.0</td>\n      <td>1.0</td>\n      <td>0.123750</td>\n      <td>slope</td>\n      <td>MNIST_compressed</td>\n      <td>299</td>\n    </tr>\n    <tr>\n      <th>96</th>\n      <td>5.0</td>\n      <td>1.0</td>\n      <td>0.123750</td>\n      <td>slope</td>\n      <td>MNIST_compressed</td>\n      <td>299</td>\n    </tr>\n    <tr>\n      <th>97</th>\n      <td>5.0</td>\n      <td>1.0</td>\n      <td>0.123750</td>\n      <td>slope</td>\n      <td>MNIST_compressed</td>\n      <td>299</td>\n    </tr>\n    <tr>\n      <th>98</th>\n      <td>5.0</td>\n      <td>1.0</td>\n      <td>0.123750</td>\n      <td>slope</td>\n      <td>MNIST_compressed</td>\n      <td>299</td>\n    </tr>\n    <tr>\n      <th>99</th>\n      <td>5.0</td>\n      <td>1.0</td>\n      <td>0.123750</td>\n      <td>slope</td>\n      <td>MNIST_compressed</td>\n      <td>299</td>\n    </tr>\n  </tbody>\n</table>\n<p>90300 rows × 6 columns</p>\n</div>"
     },
     "execution_count": 11,
     "metadata": {},
     "output_type": "execute_result"
    }
   ],
   "source": [
    "dfs = [pd.read_pickle(df) for df in dfs]\n",
    "df = pd.concat(dfs)\n"
   ],
   "metadata": {
    "collapsed": false,
    "ExecuteTime": {
     "end_time": "2024-02-01T09:14:02.388379168Z",
     "start_time": "2024-02-01T09:14:02.368563368Z"
    }
   },
   "id": "1aceb220e1ad9485",
   "execution_count": 11
  },
  {
   "cell_type": "code",
   "outputs": [
    {
     "data": {
      "text/plain": "     center  span  data_type           dataset  accuracy  sim_id\n0       0.5   0.5  amplitude           Braille  0.085151     0.0\n1       0.5   0.5  amplitude             MNIST  0.133406     0.0\n2       0.5   0.5  amplitude  MNIST_compressed  0.123269     0.0\n3       0.5   0.5      slope           Braille  0.118155     2.0\n4       0.5   0.5      slope             MNIST  0.111219     2.0\n..      ...   ...        ...               ...       ...     ...\n895    50.0   9.0  frequency             MNIST  0.111713   268.0\n896    50.0   9.0  frequency  MNIST_compressed  0.115856   268.0\n897    50.0  10.0  frequency           Braille  0.058764   298.0\n898    50.0  10.0  frequency             MNIST  0.111275   298.0\n899    50.0  10.0  frequency  MNIST_compressed  0.113500   298.0\n\n[900 rows x 6 columns]",
      "text/html": "<div>\n<style scoped>\n    .dataframe tbody tr th:only-of-type {\n        vertical-align: middle;\n    }\n\n    .dataframe tbody tr th {\n        vertical-align: top;\n    }\n\n    .dataframe thead th {\n        text-align: right;\n    }\n</style>\n<table border=\"1\" class=\"dataframe\">\n  <thead>\n    <tr style=\"text-align: right;\">\n      <th></th>\n      <th>center</th>\n      <th>span</th>\n      <th>data_type</th>\n      <th>dataset</th>\n      <th>accuracy</th>\n      <th>sim_id</th>\n    </tr>\n  </thead>\n  <tbody>\n    <tr>\n      <th>0</th>\n      <td>0.5</td>\n      <td>0.5</td>\n      <td>amplitude</td>\n      <td>Braille</td>\n      <td>0.085151</td>\n      <td>0.0</td>\n    </tr>\n    <tr>\n      <th>1</th>\n      <td>0.5</td>\n      <td>0.5</td>\n      <td>amplitude</td>\n      <td>MNIST</td>\n      <td>0.133406</td>\n      <td>0.0</td>\n    </tr>\n    <tr>\n      <th>2</th>\n      <td>0.5</td>\n      <td>0.5</td>\n      <td>amplitude</td>\n      <td>MNIST_compressed</td>\n      <td>0.123269</td>\n      <td>0.0</td>\n    </tr>\n    <tr>\n      <th>3</th>\n      <td>0.5</td>\n      <td>0.5</td>\n      <td>slope</td>\n      <td>Braille</td>\n      <td>0.118155</td>\n      <td>2.0</td>\n    </tr>\n    <tr>\n      <th>4</th>\n      <td>0.5</td>\n      <td>0.5</td>\n      <td>slope</td>\n      <td>MNIST</td>\n      <td>0.111219</td>\n      <td>2.0</td>\n    </tr>\n    <tr>\n      <th>...</th>\n      <td>...</td>\n      <td>...</td>\n      <td>...</td>\n      <td>...</td>\n      <td>...</td>\n      <td>...</td>\n    </tr>\n    <tr>\n      <th>895</th>\n      <td>50.0</td>\n      <td>9.0</td>\n      <td>frequency</td>\n      <td>MNIST</td>\n      <td>0.111713</td>\n      <td>268.0</td>\n    </tr>\n    <tr>\n      <th>896</th>\n      <td>50.0</td>\n      <td>9.0</td>\n      <td>frequency</td>\n      <td>MNIST_compressed</td>\n      <td>0.115856</td>\n      <td>268.0</td>\n    </tr>\n    <tr>\n      <th>897</th>\n      <td>50.0</td>\n      <td>10.0</td>\n      <td>frequency</td>\n      <td>Braille</td>\n      <td>0.058764</td>\n      <td>298.0</td>\n    </tr>\n    <tr>\n      <th>898</th>\n      <td>50.0</td>\n      <td>10.0</td>\n      <td>frequency</td>\n      <td>MNIST</td>\n      <td>0.111275</td>\n      <td>298.0</td>\n    </tr>\n    <tr>\n      <th>899</th>\n      <td>50.0</td>\n      <td>10.0</td>\n      <td>frequency</td>\n      <td>MNIST_compressed</td>\n      <td>0.113500</td>\n      <td>298.0</td>\n    </tr>\n  </tbody>\n</table>\n<p>900 rows × 6 columns</p>\n</div>"
     },
     "execution_count": 13,
     "metadata": {},
     "output_type": "execute_result"
    }
   ],
   "source": [
    "grouped_df = df.groupby(['center', 'span','data_type','dataset']).mean().reset_index()\n",
    "grouped_df\n"
   ],
   "metadata": {
    "collapsed": false,
    "ExecuteTime": {
     "end_time": "2024-02-01T09:26:08.172417201Z",
     "start_time": "2024-02-01T09:26:08.137578825Z"
    }
   },
   "id": "f6dacd24a5b15f12",
   "execution_count": 13
  },
  {
   "cell_type": "code",
   "outputs": [],
   "source": [
    "import matplotlib.colors as colors\n",
    "\n",
    "class MidpointNormalize(colors.Normalize):\n",
    "    def __init__(self, vmin=None, vmax=None, midpoint=None, clip=False):\n",
    "        self.midpoint = midpoint\n",
    "        colors.Normalize.__init__(self, vmin, vmax, clip)\n",
    "\n",
    "    def __call__(self, value, clip=None):\n",
    "        v_ext = np.max( [ np.abs(self.vmin), np.abs(self.vmax) ] )\n",
    "        x, y = [-v_ext, self.midpoint, v_ext], [0, 0.5, 1]\n",
    "        return np.ma.masked_array(np.interp(value, x, y))"
   ],
   "metadata": {
    "collapsed": false,
    "ExecuteTime": {
     "end_time": "2024-02-01T10:03:06.159548887Z",
     "start_time": "2024-02-01T10:03:06.150042917Z"
    }
   },
   "id": "8d69d0bbbf8155aa",
   "execution_count": 36
  },
  {
   "cell_type": "code",
   "outputs": [
    {
     "name": "stdout",
     "output_type": "stream",
     "text": [
      "Braille amplitude\n",
      "Braille slope\n",
      "MNIST amplitude\n",
      "MNIST slope\n",
      "MNIST_compressed amplitude\n",
      "MNIST_compressed slope\n"
     ]
    },
    {
     "data": {
      "text/plain": "<Figure size 360x288 with 7 Axes>",
      "image/png": "[encoded data removed]"
     },
     "metadata": {
      "needs_background": "light"
     },
     "output_type": "display_data"
    }
   ],
   "source": [
    "SMALL_SIZE = 8\n",
    "MEDIUM_SIZE = 10\n",
    "BIGGER_SIZE = 14\n",
    "plt.rc('font', family='georgia', size=SMALL_SIZE)\n",
    "# plt.rc('font', size=SMALL_SIZE)          # controls default text sizes\n",
    "plt.rc('axes', titlesize=BIGGER_SIZE)     # fontsize of the axes title\n",
    "plt.rc('axes', labelsize=MEDIUM_SIZE)    # fontsize of the x and y labels\n",
    "plt.rc('xtick', labelsize=MEDIUM_SIZE)    # fontsize of the tick labels\n",
    "plt.rc('ytick', labelsize=MEDIUM_SIZE)    # fontsize of the tick labels\n",
    "plt.rc('legend', fontsize=SMALL_SIZE)    # legend fontsize\n",
    "plt.rc('figure', titlesize=BIGGER_SIZE)  # fontsize of the figure title\n",
    "fig1,axis1 = plt.subplots(2,3,figsize=(5,4),sharey=True)\n",
    "grouped_df = df.groupby(['center', 'span','data_type','dataset']).mean().reset_index()\n",
    "chance_level = {'Braille':1/21,'MNIST':1/10,'MNIST_compressed':1/10}\n",
    "for d_idx,dataset in enumerate(grouped_df['dataset'].unique()):\n",
    "    for t, data_type in enumerate(['amplitude','slope']):\n",
    "        print(dataset, data_type)\n",
    "        # which_decimal_c = np.max(\n",
    "        # [len(str(int(0.99 / (centers[data_type][1] - centers[data_type][0])))),\n",
    "        #  len(str(int(0.99 / (centers[data_type][0]))))])\n",
    "        # which_decimal_s = np.max(\n",
    "        # [len(str(int(0.99 / (spans[data_type][1] - spans[data_type][0])))),\n",
    "        #  len(str(int(0.99 / (spans[data_type][0]))))])\n",
    "        selected_df = grouped_df[grouped_df['dataset']==dataset]\n",
    "        selected_df = selected_df[selected_df['data_type']==data_type]\n",
    "        plot_dict_hm = selected_df.pivot(index=\"center\", columns=\"span\", values=\"accuracy\")/chance_level[dataset]\n",
    "        plot_dict_hm_np = np.array(plot_dict_hm)\n",
    "        norm = MidpointNormalize(midpoint=1, vmin=0, vmax=20)\n",
    "        heatmap = sns.heatmap(plot_dict_hm,ax=axis1[t,d_idx],cbar=False,vmin=1,vmax=10,cmap='PuOr')\n",
    "        im = heatmap.get_children()[0]\n",
    "        if dataset == 'MNIST_compressed':\n",
    "            axis1[t,d_idx].set_title('MNIST\\ncompressed')\n",
    "        else:\n",
    "            axis1[t,d_idx].set_title(dataset)\n",
    "        centers = list(heatmap.get_xticks())\n",
    "        spans = list(heatmap.get_yticks())\n",
    "        which_decimal_c = np.max(\n",
    "        [len(str(int(0.99 / (centers[1] - centers[0])))),\n",
    "         len(str(int(0.99 / (centers[0]))))])\n",
    "        which_decimal_s = np.max(\n",
    "        [len(str(int(0.99 / (spans[1] - spans[0])))),\n",
    "         len(str(int(0.99 / (spans[0]))))])\n",
    "        axis1[t,d_idx].set_xticklabels([str(round(c,which_decimal_c)) for c in centers])\n",
    "        axis1[t,d_idx].set_yticklabels([str(round(s,which_decimal_s)) for s in spans])\n",
    "        if t == 1:\n",
    "            axis1[t,d_idx].set_title(None)\n",
    "        # axis1[d_idx].set_xticks(heatmap.get_xticks())\n",
    "        # axis1[d_idx].set_yticks(heatmap.get_yticks())\n",
    "        if d_idx > 0:\n",
    "            axis1[t,d_idx].set_ylabel('')\n",
    "        # if t == 0:\n",
    "            # axis1[t,d_idx].set_xlabel('')\n",
    "            \n",
    "        # axis1[d_idx].set_xlabel('')\n",
    "        # axis1[d_idx].set_ylabel('')\n",
    "    # selected_df = grouped_df[grouped_df['dataset']==dataset]\n",
    "    # plot_dict_hm = selected_df.pivot(index=\"center\", columns=\"span\", values=\"accuracy\")\n",
    "    # sns.heatmap(plot_dict_hm,ax=axis1[d_idx],annot=True,fmt='.2f',cmap='Blues',cbar=False)\n",
    "## add colorbar\n",
    "plt.tight_layout()\n",
    "# put letters at every subplot\n",
    "for i, ax in enumerate(fig1.axes):\n",
    "    ax.text(-0.2, 1.1, chr(65+i), transform=ax.transAxes, \n",
    "            size=12, weight='bold')\n",
    "fig1.subplots_adjust(right=0.8)\n",
    "cbar_ax = fig1.add_axes([0.85, 0.16, 0.05, 0.7])  \n",
    "fig1.colorbar(im, cax=cbar_ax)\n",
    "# add label to colorbar\n",
    "cbar_ax.set_ylabel('Accuracy/Chance Level')\n",
    "fig1.savefig('heatmap.png',dpi=300,)"
   ],
   "metadata": {
    "collapsed": false,
    "ExecuteTime": {
     "end_time": "2024-02-01T10:33:21.349780431Z",
     "start_time": "2024-02-01T10:33:20.118537027Z"
    }
   },
   "id": "61cfc5ab8c0b21ca",
   "execution_count": 93
  },
  {
   "cell_type": "code",
   "outputs": [
    {
     "name": "stdout",
     "output_type": "stream",
     "text": [
      "[0.5 2.5 4.5 6.5 8.5]\n"
     ]
    }
   ],
   "source": [
    "print(heatmap.get_yticks())"
   ],
   "metadata": {
    "collapsed": false,
    "ExecuteTime": {
     "end_time": "2024-02-01T10:11:39.992156093Z",
     "start_time": "2024-02-01T10:11:39.948890294Z"
    }
   },
   "id": "e38372c776dd30d7",
   "execution_count": 56
  },
  {
   "cell_type": "code",
   "outputs": [
    {
     "data": {
      "text/plain": "     center  span  data_type           dataset  accuracy  sim_id\n0       0.5   0.5  amplitude           Braille  0.085151     0.0\n1       0.5   0.5  amplitude             MNIST  0.133406     0.0\n2       0.5   0.5  amplitude  MNIST_compressed  0.123269     0.0\n3       0.5   0.5      slope           Braille  0.118155     2.0\n4       0.5   0.5      slope             MNIST  0.111219     2.0\n..      ...   ...        ...               ...       ...     ...\n895    50.0   9.0  frequency             MNIST  0.111713   268.0\n896    50.0   9.0  frequency  MNIST_compressed  0.115856   268.0\n897    50.0  10.0  frequency           Braille  0.058764   298.0\n898    50.0  10.0  frequency             MNIST  0.111275   298.0\n899    50.0  10.0  frequency  MNIST_compressed  0.113500   298.0\n\n[900 rows x 6 columns]",
      "text/html": "<div>\n<style scoped>\n    .dataframe tbody tr th:only-of-type {\n        vertical-align: middle;\n    }\n\n    .dataframe tbody tr th {\n        vertical-align: top;\n    }\n\n    .dataframe thead th {\n        text-align: right;\n    }\n</style>\n<table border=\"1\" class=\"dataframe\">\n  <thead>\n    <tr style=\"text-align: right;\">\n      <th></th>\n      <th>center</th>\n      <th>span</th>\n      <th>data_type</th>\n      <th>dataset</th>\n      <th>accuracy</th>\n      <th>sim_id</th>\n    </tr>\n  </thead>\n  <tbody>\n    <tr>\n      <th>0</th>\n      <td>0.5</td>\n      <td>0.5</td>\n      <td>amplitude</td>\n      <td>Braille</td>\n      <td>0.085151</td>\n      <td>0.0</td>\n    </tr>\n    <tr>\n      <th>1</th>\n      <td>0.5</td>\n      <td>0.5</td>\n      <td>amplitude</td>\n      <td>MNIST</td>\n      <td>0.133406</td>\n      <td>0.0</td>\n    </tr>\n    <tr>\n      <th>2</th>\n      <td>0.5</td>\n      <td>0.5</td>\n      <td>amplitude</td>\n      <td>MNIST_compressed</td>\n      <td>0.123269</td>\n      <td>0.0</td>\n    </tr>\n    <tr>\n      <th>3</th>\n      <td>0.5</td>\n      <td>0.5</td>\n      <td>slope</td>\n      <td>Braille</td>\n      <td>0.118155</td>\n      <td>2.0</td>\n    </tr>\n    <tr>\n      <th>4</th>\n      <td>0.5</td>\n      <td>0.5</td>\n      <td>slope</td>\n      <td>MNIST</td>\n      <td>0.111219</td>\n      <td>2.0</td>\n    </tr>\n    <tr>\n      <th>...</th>\n      <td>...</td>\n      <td>...</td>\n      <td>...</td>\n      <td>...</td>\n      <td>...</td>\n      <td>...</td>\n    </tr>\n    <tr>\n      <th>895</th>\n      <td>50.0</td>\n      <td>9.0</td>\n      <td>frequency</td>\n      <td>MNIST</td>\n      <td>0.111713</td>\n      <td>268.0</td>\n    </tr>\n    <tr>\n      <th>896</th>\n      <td>50.0</td>\n      <td>9.0</td>\n      <td>frequency</td>\n      <td>MNIST_compressed</td>\n      <td>0.115856</td>\n      <td>268.0</td>\n    </tr>\n    <tr>\n      <th>897</th>\n      <td>50.0</td>\n      <td>10.0</td>\n      <td>frequency</td>\n      <td>Braille</td>\n      <td>0.058764</td>\n      <td>298.0</td>\n    </tr>\n    <tr>\n      <th>898</th>\n      <td>50.0</td>\n      <td>10.0</td>\n      <td>frequency</td>\n      <td>MNIST</td>\n      <td>0.111275</td>\n      <td>298.0</td>\n    </tr>\n    <tr>\n      <th>899</th>\n      <td>50.0</td>\n      <td>10.0</td>\n      <td>frequency</td>\n      <td>MNIST_compressed</td>\n      <td>0.113500</td>\n      <td>298.0</td>\n    </tr>\n  </tbody>\n</table>\n<p>900 rows × 6 columns</p>\n</div>"
     },
     "execution_count": 81,
     "metadata": {},
     "output_type": "execute_result"
    }
   ],
   "source": [
    "grouped_df"
   ],
   "metadata": {
    "collapsed": false,
    "ExecuteTime": {
     "end_time": "2024-02-01T10:22:52.984379921Z",
     "start_time": "2024-02-01T10:22:52.981344911Z"
    }
   },
   "id": "ae6233954f3b43d8",
   "execution_count": 81
  },
  {
   "cell_type": "code",
   "outputs": [],
   "source": [],
   "metadata": {
    "collapsed": false
   },
   "id": "cb3c3d1ce5fa3b17"
  }
 ],
 "metadata": {
  "kernelspec": {
   "display_name": "Python 3",
   "language": "python",
   "name": "python3"
  },
  "language_info": {
   "codemirror_mode": {
    "name": "ipython",
    "version": 2
   },
   "file_extension": ".py",
   "mimetype": "text/x-python",
   "name": "python",
   "nbconvert_exporter": "python",
   "pygments_lexer": "ipython2",
   "version": "2.7.6"
  }
 },
 "nbformat": 4,
 "nbformat_minor": 5
}
